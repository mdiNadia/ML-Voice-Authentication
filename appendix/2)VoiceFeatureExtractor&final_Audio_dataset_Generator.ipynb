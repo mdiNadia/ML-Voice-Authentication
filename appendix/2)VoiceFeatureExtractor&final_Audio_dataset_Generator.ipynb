{
  "cells": [
    {
      "cell_type": "code",
      "execution_count": 35,
      "metadata": {
        "id": "RCIXTp2RCHPJ",
        "vscode": {
          "languageId": "plaintext"
        }
      },
      "outputs": [],
      "source": [
        "import numpy as np\n",
        "import matplotlib.pyplot as plt\n",
        "import os\n",
        "import librosa\n",
        "from IPython.display import Audio\n",
        "import pandas as pd"
      ]
    },
    {
      "cell_type": "code",
      "execution_count": 36,
      "metadata": {
        "colab": {
          "base_uri": "https://localhost:8080/"
        },
        "id": "7FqoQGuyGxNY",
        "outputId": "5cc7d057-a15c-4e46-c75e-86ba227abd2a"
      },
      "outputs": [
        {
          "name": "stdout",
          "output_type": "stream",
          "text": [
            "Requirement already satisfied: pyloudnorm in /usr/local/lib/python3.11/dist-packages (0.1.1)\n",
            "Requirement already satisfied: scipy>=1.0.1 in /usr/local/lib/python3.11/dist-packages (from pyloudnorm) (1.13.1)\n",
            "Requirement already satisfied: numpy>=1.14.2 in /usr/local/lib/python3.11/dist-packages (from pyloudnorm) (1.26.4)\n",
            "Requirement already satisfied: future>=0.16.0 in /usr/local/lib/python3.11/dist-packages (from pyloudnorm) (1.0.0)\n"
          ]
        }
      ],
      "source": [
        "!pip install pyloudnorm"
      ]
    },
    {
      "cell_type": "code",
      "execution_count": 37,
      "metadata": {
        "colab": {
          "base_uri": "https://localhost:8080/"
        },
        "id": "iSoauHmvCHPL",
        "outputId": "edd41c5c-a3ff-4892-e3be-8b7180fab7c5",
        "vscode": {
          "languageId": "plaintext"
        }
      },
      "outputs": [
        {
          "name": "stdout",
          "output_type": "stream",
          "text": [
            "Requirement already satisfied: gdown in /usr/local/lib/python3.11/dist-packages (5.2.0)\n",
            "Requirement already satisfied: beautifulsoup4 in /usr/local/lib/python3.11/dist-packages (from gdown) (4.12.3)\n",
            "Requirement already satisfied: filelock in /usr/local/lib/python3.11/dist-packages (from gdown) (3.17.0)\n",
            "Requirement already satisfied: requests[socks] in /usr/local/lib/python3.11/dist-packages (from gdown) (2.32.3)\n",
            "Requirement already satisfied: tqdm in /usr/local/lib/python3.11/dist-packages (from gdown) (4.67.1)\n",
            "Requirement already satisfied: soupsieve>1.2 in /usr/local/lib/python3.11/dist-packages (from beautifulsoup4->gdown) (2.6)\n",
            "Requirement already satisfied: charset-normalizer<4,>=2 in /usr/local/lib/python3.11/dist-packages (from requests[socks]->gdown) (3.4.1)\n",
            "Requirement already satisfied: idna<4,>=2.5 in /usr/local/lib/python3.11/dist-packages (from requests[socks]->gdown) (3.10)\n",
            "Requirement already satisfied: urllib3<3,>=1.21.1 in /usr/local/lib/python3.11/dist-packages (from requests[socks]->gdown) (2.3.0)\n",
            "Requirement already satisfied: certifi>=2017.4.17 in /usr/local/lib/python3.11/dist-packages (from requests[socks]->gdown) (2024.12.14)\n",
            "Requirement already satisfied: PySocks!=1.5.7,>=1.5.6 in /usr/local/lib/python3.11/dist-packages (from requests[socks]->gdown) (1.7.1)\n"
          ]
        }
      ],
      "source": [
        "!pip install gdown\n",
        "import gdown"
      ]
    },
    {
      "cell_type": "code",
      "execution_count": 38,
      "metadata": {
        "colab": {
          "base_uri": "https://localhost:8080/"
        },
        "id": "0IoqdSupCHPM",
        "outputId": "d9184eff-302e-4122-d024-d815785490e1",
        "vscode": {
          "languageId": "plaintext"
        }
      },
      "outputs": [
        {
          "name": "stdout",
          "output_type": "stream",
          "text": [
            "Drive already mounted at /content/drive; to attempt to forcibly remount, call drive.mount(\"/content/drive\", force_remount=True).\n"
          ]
        }
      ],
      "source": [
        "from google.colab import drive\n",
        "drive.mount('/content/drive')"
      ]
    },
    {
      "cell_type": "code",
      "execution_count": 39,
      "metadata": {
        "colab": {
          "base_uri": "https://localhost:8080/"
        },
        "id": "_GucsNwcCHPM",
        "outputId": "f67e35fd-5ae1-4405-cbd3-3756d1ffec22"
      },
      "outputs": [
        {
          "name": "stdout",
          "output_type": "stream",
          "text": [
            "Ok :)\n"
          ]
        }
      ],
      "source": [
        "# Define audio directory\n",
        "audio_directory = '/content/drive/My Drive/Audio_project/HW1_M'  # Replace with your directory\n",
        "print(\"Ok :)\")"
      ]
    },
    {
      "cell_type": "code",
      "execution_count": 40,
      "metadata": {
        "id": "Gq_8W93cCHPN",
        "vscode": {
          "languageId": "plaintext"
        }
      },
      "outputs": [],
      "source": [
        "import re\n",
        "def extract_student_id(filename):\n",
        "    pattern = r\"\\d{9}\"\n",
        "    match = re.search(pattern, filename)\n",
        "    if match:\n",
        "        return match.group(0)\n",
        "    else:\n",
        "        return None"
      ]
    },
    {
      "cell_type": "code",
      "execution_count": 41,
      "metadata": {
        "id": "Iiv4j92eGkyy"
      },
      "outputs": [],
      "source": [
        "from scipy.signal import butter, filtfilt\n",
        "\n",
        "def denoise_speech_bandpass(audio_data, sr, lowcut, highcut, order=5):\n",
        "  \"\"\"Denoises speech using a bandpass filter.\n",
        "\n",
        "  Args:\n",
        "    audio_data: The audio data as a NumPy array.\n",
        "    sr: The sampling rate of the audio data.\n",
        "    lowcut: The lower cutoff frequency of the bandpass filter.\n",
        "    highcut: The upper cutoff frequency of the bandpass filter.\n",
        "    order: The order of the bandpass filter.\n",
        "\n",
        "  Returns:\n",
        "    The denoised audio data as a NumPy array.\n",
        "  \"\"\"\n",
        "\n",
        "  # Calculate Nyquist frequency\n",
        "  nyq = 0.5 * sr\n",
        "\n",
        "  # Normalize cutoff frequencies\n",
        "  low = lowcut / nyq\n",
        "  high = highcut / nyq\n",
        "\n",
        "  # Design bandpass filter\n",
        "  b, a = butter(order, [low, high], btype='band')\n",
        "\n",
        "  # Apply filter\n",
        "  denoised_audio = filtfilt(b, a, audio_data)\n",
        "\n",
        "  return denoised_audio"
      ]
    },
    {
      "cell_type": "code",
      "execution_count": 42,
      "metadata": {
        "id": "3CjbE3ChGYe0"
      },
      "outputs": [],
      "source": [
        "def remove_silence(audio_data, sr, threshold=0.05, frame_length=4096, hop_length=512):\n",
        "    # Calculate RMS energy for each frame\n",
        "    rms = librosa.feature.rms(y=audio_data, frame_length=frame_length, hop_length=hop_length)[0]\n",
        "\n",
        "    # Find frames above the threshold\n",
        "    frames_above_threshold = np.where(rms > threshold)[0]\n",
        "\n",
        "    # Initialize an empty list to store non-silent segments\n",
        "    non_silent_segments = []\n",
        "\n",
        "    # Iterate over frames above the threshold\n",
        "    for i in range(len(frames_above_threshold)):\n",
        "        # Get start and end samples for the current segment\n",
        "        start_sample = frames_above_threshold[i] * hop_length\n",
        "        end_sample = min((frames_above_threshold[i] + 1) * hop_length, len(audio_data))  # Prevent exceeding audio length\n",
        "\n",
        "        # Append the current non-silent segment to the list\n",
        "        non_silent_segments.append(audio_data[start_sample:end_sample])\n",
        "\n",
        "    # Concatenate all non-silent segments\n",
        "    if len(non_silent_segments) > 0:\n",
        "      non_silent_audio = np.concatenate(non_silent_segments)\n",
        "    else:\n",
        "      non_silent_audio = audio_data\n",
        "\n",
        "    return non_silent_audio"
      ]
    },
    {
      "cell_type": "code",
      "execution_count": 43,
      "metadata": {
        "id": "GTSvt2HxGTyT"
      },
      "outputs": [],
      "source": [
        "from pyloudnorm import Meter, normalize\n",
        "\n",
        "def normalize_audio(audio_data, sr,  target_lufs=-14):\n",
        "  \"\"\"Normalizes all audio files in a directory to a target LUFS level.\"\"\"\n",
        "  # measure the loudness first\n",
        "  meter = Meter(sr) # create BS.1770 meter\n",
        "  loudness = meter.integrated_loudness(audio_data)\n",
        "\n",
        "  # loudness normalize audio to target_lufs dB\n",
        "  loudness_normalized_audio = normalize.loudness(audio_data, loudness, target_lufs)\n",
        "  return loudness_normalized_audio"
      ]
    },
    {
      "cell_type": "code",
      "execution_count": 44,
      "metadata": {
        "id": "jU99JAdmGD78"
      },
      "outputs": [],
      "source": [
        "def preprocess_audio(audio_data, sr=22050):\n",
        "  y_denoised = denoise_speech_bandpass(audio_data, sr, lowcut=100, highcut=8000, order=6)\n",
        "  y_normalized = normalize_audio(y_denoised, sr, -14)\n",
        "  non_silent_audio = remove_silence(y_normalized, sr, threshold=0.05, frame_length=4096, hop_length=512)\n",
        "  return non_silent_audio"
      ]
    },
    {
      "cell_type": "code",
      "execution_count": 45,
      "metadata": {
        "id": "-koRkKgZCHPN",
        "vscode": {
          "languageId": "plaintext"
        }
      },
      "outputs": [],
      "source": [
        "import csv\n",
        "\n",
        "def extract_features(segment, target_sr):\n",
        "\n",
        "    mfcc = librosa.feature.mfcc(y=segment, sr=target_sr, n_mfcc=13)\n",
        "    mfcc = np.mean(mfcc.T, axis=0)\n",
        "\n",
        "    spectral_contrast = librosa.feature.spectral_contrast(y=segment, sr=target_sr)\n",
        "    spectral_contrast = np.mean(spectral_contrast, axis = 1)\n",
        "\n",
        "    zero_crossing_rate = librosa.feature.zero_crossing_rate(y=segment)\n",
        "    zero_crossing_rate = np.mean(zero_crossing_rate)\n",
        "\n",
        "    rms = np.mean(librosa.feature.rms(y=segment).T, axis=0)\n",
        "\n",
        "    spectral_centroid = librosa.feature.spectral_centroid(y=segment, sr=target_sr)\n",
        "    spectral_centroid = np.mean(spectral_centroid)\n",
        "\n",
        "    spectral_bandwidth = librosa.feature.spectral_bandwidth(y=segment, sr=target_sr)\n",
        "    spectral_bandwidth = np.mean(spectral_bandwidth)\n",
        "\n",
        "    feature_data = {\n",
        "        'Mfcc_' + str(i+1): mfcc[i] for i in range(len(mfcc))\n",
        "    }\n",
        "    feature_data.update({\n",
        "        'Spectral_Contrast_' + str(i+1): spectral_contrast[i] for i in range(len(spectral_contrast))\n",
        "    })\n",
        "    feature_data['Zero_Crossing_Rate'] = zero_crossing_rate\n",
        "    feature_data['RMS_Energy'] = rms\n",
        "    feature_data['Spectral_Centroid'] = spectral_centroid\n",
        "    feature_data['Spectral_Bandwidth'] = spectral_bandwidth\n",
        "\n",
        "    return feature_data\n",
        "\n",
        "def process_audio(audio_directory, output_file, target_sr=22050, segment_duration=4.0):\n",
        "    np.random.seed(42)\n",
        "    student_info = []\n",
        "\n",
        "    for filename in os.listdir(audio_directory):\n",
        "        if 'female' in filename.lower():\n",
        "            label = 'female'\n",
        "        elif 'male' in filename.lower():\n",
        "            label = 'male'\n",
        "        else:\n",
        "            continue\n",
        "\n",
        "        student_id = extract_student_id(filename)\n",
        "        student_info.append((student_id, label, filename))\n",
        "\n",
        "    df_info = pd.DataFrame(student_info, columns=['student_id', 'gender', 'filename'])\n",
        "\n",
        "    male_students = df_info[df_info['gender'] == 'male']['student_id'].unique()\n",
        "    female_students = df_info[df_info['gender'] == 'female']['student_id'].unique()\n",
        "\n",
        "    min_count = min(len(male_students), len(female_students))\n",
        "\n",
        "    balanced_male_students = np.random.choice(male_students, min_count, replace=False)\n",
        "    balanced_female_students = np.random.choice(female_students, min_count, replace=False)\n",
        "\n",
        "    balanced_student_ids = np.concatenate((balanced_male_students, balanced_female_students))\n",
        "    df_balanced = df_info[df_info['student_id'].isin(balanced_student_ids)]\n",
        "\n",
        "    feature_columns = ['filename', 'label', 'student_id'] + \\\n",
        "                      ['Mfcc_' + str(i) for i in range(1, 14)] + \\\n",
        "                      ['Spectral_Contrast_' + str(i) for i in range(1, 8)] + \\\n",
        "                      ['Zero_Crossing_Rate', 'RMS_Energy', 'Spectral_Centroid', 'Spectral_Bandwidth']\n",
        "\n",
        "    with open(output_file, mode='w', newline='') as file:\n",
        "        writer = csv.DictWriter(file, fieldnames=feature_columns)\n",
        "        writer.writeheader()\n",
        "\n",
        "        for _, row in df_balanced.iterrows():\n",
        "            label = row['gender']\n",
        "            student_id = row['student_id']\n",
        "            filename = row['filename']\n",
        "\n",
        "            y, sr = librosa.load(os.path.join(audio_directory, filename), offset=1.0, duration=500.0, sr=target_sr)\n",
        "            y = preprocess_audio(y, sr=sr)\n",
        "            segment_length = int(segment_duration * sr)\n",
        "            num_segments = len(y) // segment_length\n",
        "\n",
        "            for i in range(num_segments):\n",
        "                start = i * segment_length\n",
        "                end = start + segment_length\n",
        "                segment = y[start:end]\n",
        "\n",
        "                feature_data = extract_features(segment, target_sr)\n",
        "                feature_data['filename'] = filename + f'_{i}'\n",
        "                feature_data['label'] = label\n",
        "                feature_data['student_id'] = student_id\n",
        "\n",
        "                writer.writerow(feature_data)\n",
        "\n",
        "\n"
      ]
    },
    {
      "cell_type": "code",
      "execution_count": 46,
      "metadata": {
        "id": "k0hCuQ_XJ-uN"
      },
      "outputs": [],
      "source": [
        "import warnings\n",
        "import pyloudnorm\n",
        "\n",
        "# Disable the normalization user warning\n",
        "warnings.filterwarnings(\"ignore\", category=UserWarning, module='pyloudnorm')"
      ]
    },
    {
      "cell_type": "code",
      "execution_count": null,
      "metadata": {
        "id": "QUTZP_hECLgb"
      },
      "outputs": [],
      "source": [
        "# Example usage\n",
        "output_file = '/content/drive/My Drive/final_Audio_dataset.csv'\n",
        "process_audio(audio_directory, output_file)\n",
        "\n"
      ]
    },
    {
      "cell_type": "code",
      "execution_count": 53,
      "metadata": {
        "colab": {
          "base_uri": "https://localhost:8080/"
        },
        "id": "dZxwDSxnC-CS",
        "outputId": "309ff68f-eda7-4e4d-a10d-77706bc8edfd"
      },
      "outputs": [
        {
          "name": "stdout",
          "output_type": "stream",
          "text": [
            "                      filename label  student_id      Mfcc_1      Mfcc_2  \\\n",
            "0  HW1_Q5_810801072_Male.mp3_0  male   810801072 -155.217852  135.871079   \n",
            "1  HW1_Q5_810801072_Male.mp3_1  male   810801072 -177.114558  140.304623   \n",
            "2  HW1_Q5_810801072_Male.mp3_2  male   810801072 -162.584909  120.209218   \n",
            "3  HW1_Q5_810801072_Male.mp3_3  male   810801072 -165.845303  145.862184   \n",
            "4  HW1_Q5_810801072_Male.mp3_4  male   810801072 -178.106893  132.620852   \n",
            "\n",
            "      Mfcc_3     Mfcc_4    Mfcc_5     Mfcc_6     Mfcc_7  ...  \\\n",
            "0 -13.262353  47.794728  7.207893   7.300228 -22.951777  ...   \n",
            "1 -21.115352  46.488005 -3.399340  16.619354 -25.741743  ...   \n",
            "2 -14.282396  57.224400 -7.945799  16.344686 -23.463047  ...   \n",
            "3 -10.069458  37.615732 -4.063423  11.771095 -19.396108  ...   \n",
            "4 -11.592609  59.768651  1.988449   9.041938 -14.379663  ...   \n",
            "\n",
            "   Spectral_Contrast_2  Spectral_Contrast_3  Spectral_Contrast_4  \\\n",
            "0            15.134972            17.070269            14.433772   \n",
            "1            14.806266            16.118720            14.425761   \n",
            "2            15.976979            15.895401            14.369768   \n",
            "3            17.257902            16.087427            14.417355   \n",
            "4            16.781561            17.587037            13.861953   \n",
            "\n",
            "   Spectral_Contrast_5  Spectral_Contrast_6  Spectral_Contrast_7  \\\n",
            "0            17.228962            18.581393            58.160648   \n",
            "1            16.752967            18.602274            60.356715   \n",
            "2            16.341339            18.345921            63.918985   \n",
            "3            16.030734            18.538016            60.833595   \n",
            "4            15.965217            18.759575            59.502767   \n",
            "\n",
            "   Zero_Crossing_Rate    RMS_Energy  Spectral_Centroid  Spectral_Bandwidth  \n",
            "0            0.047679  [0.23225176]        1229.271846         1533.279825  \n",
            "1            0.059593  [0.14712484]        1343.079574         1608.519421  \n",
            "2            0.086666  [0.17661643]        1617.971710         1646.950283  \n",
            "3            0.049463  [0.21423991]        1202.299332         1526.762868  \n",
            "4            0.043889  [0.20913659]        1188.361837         1551.776937  \n",
            "\n",
            "[5 rows x 27 columns]\n"
          ]
        }
      ],
      "source": [
        "# Load the resulting CSV file into a DataFrame\n",
        "dataset = pd.read_csv(output_file)\n",
        "\n",
        "# Print the first few rows of the dataset\n",
        "print(dataset.head())"
      ]
    },
    {
      "cell_type": "code",
      "execution_count": null,
      "metadata": {
        "id": "ORSijJdmiRru"
      },
      "outputs": [],
      "source": [
        "from IPython.display import Audio\n",
        "filename = '/content/drive/MyDrive/Audio_project/HW1_M/HW1-Q1-1-810103226-male.mp3'\n",
        "\n",
        "y, sr = librosa.load(filename, offset=1.0, duration=500.0)\n",
        "y = preprocess_audio(y)\n",
        "\n",
        "print(sr)\n",
        "\n",
        "display(Audio(y[0: 5*sr], rate=sr))"
      ]
    },
    {
      "cell_type": "code",
      "execution_count": null,
      "metadata": {
        "id": "q-aVnmF_kGpg"
      },
      "outputs": [],
      "source": [
        "data = extract_features(y[0:5*sr], sr)"
      ]
    }
  ],
  "metadata": {
    "colab": {
      "provenance": []
    },
    "kernelspec": {
      "display_name": "Python 3",
      "name": "python3"
    },
    "language_info": {
      "name": "python"
    }
  },
  "nbformat": 4,
  "nbformat_minor": 0
}
