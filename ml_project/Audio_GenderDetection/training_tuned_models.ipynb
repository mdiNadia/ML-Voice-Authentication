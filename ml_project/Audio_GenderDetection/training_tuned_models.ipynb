{
 "cells": [
  {
   "cell_type": "markdown",
   "id": "6f1ebb8e-4e32-4eb5-b19e-f554e5e36c8c",
   "metadata": {},
   "source": [
    "##### 0. In this notebook , we are going to train classifiers on a subset of features which were selected during feature selection process"
   ]
  },
  {
   "cell_type": "markdown",
   "id": "2b8373aa-2e18-40b0-bbb7-b1b5b9a82f21",
   "metadata": {},
   "source": [
    "### 1. Setup and import required packages"
   ]
  },
  {
   "cell_type": "code",
   "execution_count": 1,
   "id": "7428dc73-d8b7-4ac2-85e5-7f8e31c2bd00",
   "metadata": {},
   "outputs": [],
   "source": [
    "import os\n",
    "import joblib\n",
    "import shutil\n",
    "import numpy as np\n",
    "import pandas as pd\n",
    "\n",
    "from sklearn.preprocessing import StandardScaler\n",
    "\n",
    "from models import AdaBoost\n",
    "from models import KNearestNeighbors\n",
    "from models import LogisticRegression\n",
    "from models import MultiLayerPerceptron\n",
    "from models import SupportVectorMachine\n",
    "\n",
    "import sys\n",
    "sys.path.insert(1, os.path.join(\"..\", \"Audio_Scripts\"))\n",
    "sys.path.insert(1, os.path.join(\"..\"))\n",
    "from Audio_Scripts import audio_utils as au\n",
    "from Audio_Scripts import preprocessing\n",
    "from Audio_Scripts import featrue_extraction\n",
    "import librosa\n",
    "import soundfile as sf\n",
    "from tqdm import tqdm"
   ]
  },
  {
   "cell_type": "markdown",
   "id": "4dc3baa9-4df1-4068-8a35-167bc20a1808",
   "metadata": {},
   "source": [
    "<h3>2. Read train Data.</h3>"
   ]
  },
  {
   "cell_type": "code",
   "execution_count": 2,
   "id": "8f827c38-848a-4127-876c-82d186e605ee",
   "metadata": {},
   "outputs": [
    {
     "name": "stdout",
     "output_type": "stream",
     "text": [
      "Num train samples: 14245\n"
     ]
    }
   ],
   "source": [
    "train_data = os.path.join(\"train\", \"train_features.csv\")\n",
    "\n",
    "train_df = pd.read_csv(train_data)\n",
    "\n",
    "print(\"Num train samples:\", len(train_df))"
   ]
  },
  {
   "cell_type": "code",
   "execution_count": 3,
   "id": "8a3e137c-41b3-43e2-851c-e7b82f373b95",
   "metadata": {},
   "outputs": [
    {
     "data": {
      "text/plain": [
       "['spectral_centroid_1',\n",
       " 'zcr',\n",
       " 'spectral_contrast_1',\n",
       " 'spectral_contrast_2',\n",
       " 'spectral_contrast_3',\n",
       " 'spectral_contrast_4',\n",
       " 'spectral_contrast_5',\n",
       " 'spectral_contrast_6',\n",
       " 'spectral_contrast_7',\n",
       " 'bandwidth_1',\n",
       " 'energy_1',\n",
       " 'mfcc_1',\n",
       " 'mfcc_2',\n",
       " 'mfcc_3',\n",
       " 'mfcc_4',\n",
       " 'mfcc_5',\n",
       " 'mfcc_6',\n",
       " 'mfcc_7',\n",
       " 'mfcc_8',\n",
       " 'mfcc_9',\n",
       " 'mfcc_10',\n",
       " 'mfcc_11',\n",
       " 'mfcc_12',\n",
       " 'mfcc_13',\n",
       " 'log_mel_1',\n",
       " 'log_mel_2',\n",
       " 'log_mel_3',\n",
       " 'log_mel_4',\n",
       " 'log_mel_5',\n",
       " 'log_mel_6',\n",
       " 'log_mel_7',\n",
       " 'log_mel_8',\n",
       " 'log_mel_9',\n",
       " 'log_mel_10',\n",
       " 'log_mel_11',\n",
       " 'log_mel_12',\n",
       " 'log_mel_13',\n",
       " 'log_mel_14',\n",
       " 'log_mel_15',\n",
       " 'log_mel_16',\n",
       " 'log_mel_17',\n",
       " 'log_mel_18',\n",
       " 'log_mel_19',\n",
       " 'log_mel_20',\n",
       " 'log_mel_21',\n",
       " 'log_mel_22',\n",
       " 'log_mel_23',\n",
       " 'log_mel_24',\n",
       " 'log_mel_25',\n",
       " 'log_mel_26',\n",
       " 'log_mel_27',\n",
       " 'log_mel_28',\n",
       " 'log_mel_29',\n",
       " 'log_mel_30',\n",
       " 'log_mel_31',\n",
       " 'log_mel_32',\n",
       " 'log_mel_33',\n",
       " 'log_mel_34',\n",
       " 'log_mel_35',\n",
       " 'log_mel_36',\n",
       " 'log_mel_37',\n",
       " 'log_mel_38',\n",
       " 'log_mel_39',\n",
       " 'log_mel_40',\n",
       " 'label']"
      ]
     },
     "execution_count": 3,
     "metadata": {},
     "output_type": "execute_result"
    }
   ],
   "source": [
    "list(train_df.columns)"
   ]
  },
  {
   "cell_type": "markdown",
   "id": "e073f450-9a01-49ae-b96a-d9f4dbc1cb35",
   "metadata": {},
   "source": [
    "<h3>3. Extract required features.</h3>"
   ]
  },
  {
   "cell_type": "code",
   "execution_count": 4,
   "id": "e3c9e8fc-cfa0-4fbc-ac93-b5462c88fef9",
   "metadata": {},
   "outputs": [],
   "source": [
    "MFCC_columns = ['mfcc_1', 'mfcc_2', 'mfcc_3', 'mfcc_4', 'mfcc_5', 'mfcc_6', 'mfcc_7',\n",
    "                'mfcc_8', 'mfcc_9', 'mfcc_10', 'mfcc_11', 'mfcc_12', 'mfcc_13']\n",
    "\n",
    "Sp_contrast_columns = ['spectral_contrast_1', 'spectral_contrast_2', 'spectral_contrast_3',\n",
    "                       'spectral_contrast_4', 'spectral_contrast_5', 'spectral_contrast_6', 'spectral_contrast_7']\n",
    "\n",
    "selected_features = MFCC_columns + Sp_contrast_columns + ['label']\n",
    "\n",
    "x_train_selected = train_df[selected_features]"
   ]
  },
  {
   "cell_type": "code",
   "execution_count": 5,
   "id": "c717b3a9-d90d-491d-9512-5faca05f4269",
   "metadata": {},
   "outputs": [],
   "source": [
    "x_train, y_train = np.array(x_train_selected.drop(\"label\", axis=1)), np.array(train_df['label'])\n",
    "\n",
    "col_mean = np.nanmean(x_train, axis=0)\n",
    "inds = np.where(np.isnan(x_train))\n",
    "x_train[inds] = np.take(col_mean, inds[1])\n",
    "\n",
    "# Scale features\n",
    "std_scaler = StandardScaler()\n",
    "x_train_scaled = std_scaler.fit_transform(x_train)"
   ]
  },
  {
   "cell_type": "code",
   "execution_count": 6,
   "id": "2e0b4a48-45d1-49b4-afcf-35e77b36eaab",
   "metadata": {},
   "outputs": [
    {
     "name": "stdout",
     "output_type": "stream",
     "text": [
      "Train and evaluate svm.\n",
      "\tCross val score: [0.97507898 0.97542998 0.96911197 0.97402597 0.97683398]\n",
      "--------------------\n",
      "Train and evaluate mlp.\n",
      "\tCross val score: [0.98244998 0.98455598 0.97297297 0.97191997 0.97964198]\n",
      "--------------------\n",
      "Train and evaluate log.\n",
      "\tCross val score: [0.93997894 0.93646894 0.93155493 0.93752194 0.93295893]\n",
      "--------------------\n",
      "Train and evaluate knn.\n",
      "\tCross val score: [0.97893998 0.98069498 0.97437697 0.97507898 0.97648298]\n",
      "--------------------\n",
      "Train and evaluate ada.\n",
      "\tCross val score: [0.91786592 0.91962092 0.91681292 0.90768691 0.90698491]\n",
      "--------------------\n"
     ]
    }
   ],
   "source": [
    "models = {\n",
    "    \"svm\": SupportVectorMachine(),\n",
    "    \"mlp\": MultiLayerPerceptron(),\n",
    "    \"log\": LogisticRegression(),\n",
    "    \"knn\": KNearestNeighbors(),\n",
    "    \"ada\": AdaBoost(),\n",
    "}\n",
    "\n",
    "for model_name, model in models.items():\n",
    "    print(f\"Train and evaluate {model_name}.\")\n",
    "    scores = model.cross_validate(x_train_scaled, y_train)\n",
    "    print(f\"\\tCross val score: {scores}\")\n",
    "    print(\"-\"*20)"
   ]
  },
  {
   "cell_type": "markdown",
   "id": "642b3ef7-af70-4fa7-9899-2c6fbad8721f",
   "metadata": {},
   "source": [
    "### 4. Modify the inference function"
   ]
  },
  {
   "cell_type": "code",
   "execution_count": 7,
   "id": "78b3aae3-e0f9-48b0-80f4-3f8fbe2652df",
   "metadata": {},
   "outputs": [],
   "source": [
    "from Audio_Scripts.extraction_methods import mfcc_extraction\n",
    "from Audio_Scripts.extraction_methods import spectral_contrast_extraction\n",
    "\n",
    "def detect_gender(audio_path, model):\n",
    "    # Load Model and scaler\n",
    "    if isinstance(model, str):\n",
    "        model = joblib.load(model)\n",
    "    if not hasattr(model, \"predict\"):\n",
    "        raise ValueError(f\"Model {model} not supported\")\n",
    "\n",
    "    if not audio_path.endswith(\".wav\") and not audio_path.endswith(\".mp3\"):\n",
    "        raise ValueError(f\"Audio path {audio_path} not supported\")\n",
    "\n",
    "    scaler = joblib.load(os.path.join(\"saved_models\", \"std_scaler_2.joblib\"))\n",
    "\n",
    "    temp_dir = \"./.temp.inference_cache\"\n",
    "    os.makedirs(temp_dir, exist_ok=True)\n",
    "\n",
    "    # Split audio into 3 seconds chunks (maximum 1 min)\n",
    "    audio, sr = librosa.load(audio_path, sr=samping_rate)\n",
    "    filtered_audio = preprocessing.bandpass_filter(audio, sr, lowcut, highcut)\n",
    "    normalized_audio = preprocessing.normalize_audio(filtered_audio, sr, target_lufs=-14)\n",
    "    non_silent_audio = preprocessing.remove_silence(normalized_audio, threshold=0.05)\n",
    "    if non_silent_audio.size <= 0:\n",
    "        raise ValueError(f\"file `{audio_path}` is a silent file.\")\n",
    "\n",
    "    num_samples_per_segment = sr * segment_duration\n",
    "    total_segments = min(5, len(normalized_audio) // num_samples_per_segment)  # maximum 15 seconds per person\n",
    "    for i in range(total_segments):\n",
    "        start = i * num_samples_per_segment\n",
    "        end = start + num_samples_per_segment\n",
    "        segment = normalized_audio[start:end]\n",
    "        segment_file = os.path.join(temp_dir, f\"segment_{i}.wav\")\n",
    "        sf.write(segment_file, segment, sr)\n",
    "\n",
    "    # Extract features and run model\n",
    "    chunks = [os.path.join(temp_dir, f\"segment_{i}.wav\") for i in range(total_segments)]\n",
    "    results = []\n",
    "    for chunk_name in tqdm(chunks):\n",
    "        #energy, _ = energy_extraction.extract_energy(chunk_name, sr=samping_rate, hop_length=hop_length)\n",
    "        #energy_features = list(np.mean(energy, axis=1))\n",
    "        mfcc_features = mfcc_extraction.extract_mfcc(chunk_name, n_mfcc=13)\n",
    "        mfcc_features = list(mfcc_features)\n",
    "        spectral_contrast = spectral_contrast_extraction.extract_spectral_contrast(audio_path, sr=samping_rate)\n",
    "        spectral_contrast_features = list(spectral_contrast)\n",
    "        #spectral_bandwidth = spectral_bandwidth_extraction.extract_spectral_bandwidth(audio_path, sr=samping_rate)\n",
    "        #spectral_bandwidth_features = list(spectral_bandwidth)\n",
    "        #mel_spectrogram = log_mel_spectrogram_extraction.extract_log_mel_spectrogram(audio_path, n_mels=40,\n",
    "        #                                                                             n_fft=1024, hop_length=hop_length)\n",
    "        #mel_spectrogram_features = list(mel_spectrogram)\n",
    "        #spectral_centroid = spectral_centroid_extraction.extract_spectral_centroid(audio_path, sr=samping_rate)\n",
    "        #spectral_centroid_features = list(spectral_centroid)\n",
    "        #zero = zcr_extraction.extract_zero_crossing_rate(audio_path, sr=samping_rate)\n",
    "        #zero_features = [zero]\n",
    "\n",
    "        #all_features = energy_features + mfcc_features + spectral_contrast_features + spectral_bandwidth_features + mel_spectrogram_features + spectral_centroid_features + zero_features\n",
    "        all_features = mfcc_features + spectral_contrast_features\n",
    "        all_features = np.array(all_features)\n",
    "\n",
    "        features_ready = scaler.transform([all_features])\n",
    "        prediction = model.predict(features_ready)\n",
    "        results.append(list(prediction)[0])\n",
    "    shutil.rmtree(temp_dir)\n",
    "    return 1 if sum(results) > len(results) // 2 else 0"
   ]
  },
  {
   "cell_type": "markdown",
   "id": "a32bb964-fcc4-4f40-a86c-02b33e611066",
   "metadata": {},
   "source": [
    "### 5. Evaluate the model on unseen data"
   ]
  },
  {
   "cell_type": "code",
   "execution_count": 8,
   "id": "a391f503-09bd-4bf2-be0d-c27374f85d69",
   "metadata": {},
   "outputs": [],
   "source": [
    "samping_rate = 22050\n",
    "hop_length = 512\n",
    "lowcut, highcut = 50.0, 5000.0\n",
    "segment_duration = 3"
   ]
  },
  {
   "cell_type": "code",
   "execution_count": 9,
   "id": "b62cd5d0-57fa-4185-9a5e-7873f3098c6b",
   "metadata": {},
   "outputs": [],
   "source": [
    "svm = SupportVectorMachine()\n",
    "svm.train(x_train_scaled, y_train)"
   ]
  },
  {
   "cell_type": "code",
   "execution_count": 10,
   "id": "be07cd28-bcca-4106-a482-e4c15e732f70",
   "metadata": {},
   "outputs": [
    {
     "data": {
      "text/plain": [
       "['saved_models/svm_3.joblib']"
      ]
     },
     "execution_count": 10,
     "metadata": {},
     "output_type": "execute_result"
    }
   ],
   "source": [
    "joblib.dump(svm, os.path.join(\"saved_models\", \"svm_3.joblib\"))"
   ]
  },
  {
   "cell_type": "code",
   "execution_count": 11,
   "id": "d7228fad-5fa8-45dc-bd0c-e7cf12f953ed",
   "metadata": {},
   "outputs": [
    {
     "data": {
      "text/plain": [
       "[('./test/raw/hw1_q2_610399205_male.mp3', 1),\n",
       " ('./test/raw/hw1_q1a_810103262_male.mp3', 1),\n",
       " ('./test/raw/hw1_q5_810103262_male.mp3', 1),\n",
       " ('./test/raw/hw1_q6_810103108_male.mp3', 1),\n",
       " ('./test/raw/hw1_q4_810103222_male.mp3', 1),\n",
       " ('./test/raw/hw1_intro_810103222_male.mp3', 1),\n",
       " ('./test/raw/hw1_q1_610300070_female.mp3', 0),\n",
       " ('./test/raw/hw1_intro_810103172_male.mp3', 1),\n",
       " ('./test/raw/hw1_q5_610399205_male.mp3', 1),\n",
       " ('./test/raw/hw1_intro_810103197_female.mp3', 0),\n",
       " ('./test/raw/hw1_q6_810100268_female.mp3', 0),\n",
       " ('./test/raw/hw1_q2_810199570_female.mp3', 0),\n",
       " ('./test/raw/hw1_q2_810103108_male.mp3', 1),\n",
       " ('./test/raw/hw1_q1_810102066_male.mp3', 1),\n",
       " ('./test/raw/hw1_intro_810100268_female.mp3', 0),\n",
       " ('./test/raw/hw1_intro_810101423_male.mp3', 1),\n",
       " ('./test/raw/hw1_q5_810103093_female.mp3', 0),\n",
       " ('./test/raw/hw1_q1_810199328_male.mp3', 1),\n",
       " ('./test/raw/hw1_q4_610300070_female.mp3', 0),\n",
       " ('./test/raw/hw1_q2_810103093_female.mp3', 0),\n",
       " ('./test/raw/hw1_q5_810199328_male.mp3', 1),\n",
       " ('./test/raw/hw1_q3_810199570_female.mp3', 0),\n",
       " ('./test/raw/hw1_q3_810101471_female.mp3', 0),\n",
       " ('./test/raw/hw1_q4_810102066_male.mp3', 1),\n",
       " ('./test/raw/hw1_q4_810103197_female.mp3', 0),\n",
       " ('./test/raw/hw1_q1_810101471_female.mp3', 0),\n",
       " ('./test/raw/hw1_intro_810600065_female.mp3.mp3', 0),\n",
       " ('./test/raw/hw1_q4_810600065_female.mp3.mp3', 0),\n",
       " ('./test/raw/hw1_intro_810103136_male.mp3', 1),\n",
       " ('./test/raw/hw1_q1_810103172_male.mp3', 1)]"
      ]
     },
     "execution_count": 11,
     "metadata": {},
     "output_type": "execute_result"
    }
   ],
   "source": [
    "test_data_path = os.path.join(\".\", \"test\", \"raw\")\n",
    "\n",
    "\n",
    "test_data = [os.path.join(test_data_path, t) for t in os.listdir(test_data_path)]\n",
    "test_data = [(t, 0 if \"female\" in t else 1) for t in test_data]\n",
    "test_data"
   ]
  },
  {
   "cell_type": "code",
   "execution_count": 12,
   "id": "d7e48cf5-f699-4377-848b-9072278e35b4",
   "metadata": {},
   "outputs": [
    {
     "name": "stdout",
     "output_type": "stream",
     "text": [
      "1/30: ./test/raw/hw1_q2_610399205_male.mp3\n"
     ]
    },
    {
     "name": "stderr",
     "output_type": "stream",
     "text": [
      "/home/omid/.pyenv/versions/3.11.9/lib/python3.11/site-packages/pyloudnorm/normalize.py:62: UserWarning: Possible clipped samples in output.\n",
      "  warnings.warn(\"Possible clipped samples in output.\")\n",
      "100%|█████████████████████████████████████████████████████████████████| 5/5 [00:03<00:00,  1.46it/s]\n"
     ]
    },
    {
     "name": "stdout",
     "output_type": "stream",
     "text": [
      "2/30: ./test/raw/hw1_q1a_810103262_male.mp3\n"
     ]
    },
    {
     "name": "stderr",
     "output_type": "stream",
     "text": [
      "/home/omid/.pyenv/versions/3.11.9/lib/python3.11/site-packages/pyloudnorm/normalize.py:62: UserWarning: Possible clipped samples in output.\n",
      "  warnings.warn(\"Possible clipped samples in output.\")\n",
      "100%|█████████████████████████████████████████████████████████████████| 5/5 [00:02<00:00,  1.70it/s]\n"
     ]
    },
    {
     "name": "stdout",
     "output_type": "stream",
     "text": [
      "3/30: ./test/raw/hw1_q5_810103262_male.mp3\n"
     ]
    },
    {
     "name": "stderr",
     "output_type": "stream",
     "text": [
      "/home/omid/.pyenv/versions/3.11.9/lib/python3.11/site-packages/pyloudnorm/normalize.py:62: UserWarning: Possible clipped samples in output.\n",
      "  warnings.warn(\"Possible clipped samples in output.\")\n",
      "100%|█████████████████████████████████████████████████████████████████| 5/5 [00:02<00:00,  2.21it/s]\n"
     ]
    },
    {
     "name": "stdout",
     "output_type": "stream",
     "text": [
      "4/30: ./test/raw/hw1_q6_810103108_male.mp3\n"
     ]
    },
    {
     "name": "stderr",
     "output_type": "stream",
     "text": [
      "/home/omid/.pyenv/versions/3.11.9/lib/python3.11/site-packages/pyloudnorm/normalize.py:62: UserWarning: Possible clipped samples in output.\n",
      "  warnings.warn(\"Possible clipped samples in output.\")\n",
      "100%|█████████████████████████████████████████████████████████████████| 5/5 [00:12<00:00,  2.52s/it]\n"
     ]
    },
    {
     "name": "stdout",
     "output_type": "stream",
     "text": [
      "5/30: ./test/raw/hw1_q4_810103222_male.mp3\n"
     ]
    },
    {
     "name": "stderr",
     "output_type": "stream",
     "text": [
      "/home/omid/.pyenv/versions/3.11.9/lib/python3.11/site-packages/pyloudnorm/normalize.py:62: UserWarning: Possible clipped samples in output.\n",
      "  warnings.warn(\"Possible clipped samples in output.\")\n",
      "100%|█████████████████████████████████████████████████████████████████| 5/5 [00:06<00:00,  1.29s/it]\n"
     ]
    },
    {
     "name": "stdout",
     "output_type": "stream",
     "text": [
      "6/30: ./test/raw/hw1_intro_810103222_male.mp3\n"
     ]
    },
    {
     "name": "stderr",
     "output_type": "stream",
     "text": [
      "100%|█████████████████████████████████████████████████████████████████| 4/4 [00:00<00:00, 15.96it/s]\n"
     ]
    },
    {
     "name": "stdout",
     "output_type": "stream",
     "text": [
      "7/30: ./test/raw/hw1_q1_610300070_female.mp3\n"
     ]
    },
    {
     "name": "stderr",
     "output_type": "stream",
     "text": [
      "/home/omid/.pyenv/versions/3.11.9/lib/python3.11/site-packages/pyloudnorm/normalize.py:62: UserWarning: Possible clipped samples in output.\n",
      "  warnings.warn(\"Possible clipped samples in output.\")\n",
      "100%|█████████████████████████████████████████████████████████████████| 5/5 [00:06<00:00,  1.33s/it]\n",
      "/home/omid/.pyenv/versions/3.11.9/lib/python3.11/site-packages/pyloudnorm/normalize.py:62: UserWarning: Possible clipped samples in output.\n",
      "  warnings.warn(\"Possible clipped samples in output.\")\n"
     ]
    },
    {
     "name": "stdout",
     "output_type": "stream",
     "text": [
      "8/30: ./test/raw/hw1_intro_810103172_male.mp3\n"
     ]
    },
    {
     "name": "stderr",
     "output_type": "stream",
     "text": [
      "100%|█████████████████████████████████████████████████████████████████| 4/4 [00:00<00:00, 19.56it/s]\n"
     ]
    },
    {
     "name": "stdout",
     "output_type": "stream",
     "text": [
      "9/30: ./test/raw/hw1_q5_610399205_male.mp3\n"
     ]
    },
    {
     "name": "stderr",
     "output_type": "stream",
     "text": [
      "/home/omid/.pyenv/versions/3.11.9/lib/python3.11/site-packages/pyloudnorm/normalize.py:62: UserWarning: Possible clipped samples in output.\n",
      "  warnings.warn(\"Possible clipped samples in output.\")\n",
      "100%|█████████████████████████████████████████████████████████████████| 5/5 [00:03<00:00,  1.58it/s]\n",
      "/home/omid/.pyenv/versions/3.11.9/lib/python3.11/site-packages/pyloudnorm/normalize.py:62: UserWarning: Possible clipped samples in output.\n",
      "  warnings.warn(\"Possible clipped samples in output.\")\n"
     ]
    },
    {
     "name": "stdout",
     "output_type": "stream",
     "text": [
      "10/30: ./test/raw/hw1_intro_810103197_female.mp3\n"
     ]
    },
    {
     "name": "stderr",
     "output_type": "stream",
     "text": [
      "100%|█████████████████████████████████████████████████████████████████| 4/4 [00:00<00:00, 17.54it/s]\n"
     ]
    },
    {
     "name": "stdout",
     "output_type": "stream",
     "text": [
      "11/30: ./test/raw/hw1_q6_810100268_female.mp3\n"
     ]
    },
    {
     "name": "stderr",
     "output_type": "stream",
     "text": [
      "/home/omid/.pyenv/versions/3.11.9/lib/python3.11/site-packages/pyloudnorm/normalize.py:62: UserWarning: Possible clipped samples in output.\n",
      "  warnings.warn(\"Possible clipped samples in output.\")\n",
      "100%|█████████████████████████████████████████████████████████████████| 5/5 [00:03<00:00,  1.56it/s]\n"
     ]
    },
    {
     "name": "stdout",
     "output_type": "stream",
     "text": [
      "12/30: ./test/raw/hw1_q2_810199570_female.mp3\n"
     ]
    },
    {
     "name": "stderr",
     "output_type": "stream",
     "text": [
      "/home/omid/.pyenv/versions/3.11.9/lib/python3.11/site-packages/pyloudnorm/normalize.py:62: UserWarning: Possible clipped samples in output.\n",
      "  warnings.warn(\"Possible clipped samples in output.\")\n",
      "100%|█████████████████████████████████████████████████████████████████| 5/5 [00:01<00:00,  2.89it/s]\n"
     ]
    },
    {
     "name": "stdout",
     "output_type": "stream",
     "text": [
      "13/30: ./test/raw/hw1_q2_810103108_male.mp3\n"
     ]
    },
    {
     "name": "stderr",
     "output_type": "stream",
     "text": [
      "/home/omid/.pyenv/versions/3.11.9/lib/python3.11/site-packages/pyloudnorm/normalize.py:62: UserWarning: Possible clipped samples in output.\n",
      "  warnings.warn(\"Possible clipped samples in output.\")\n",
      "100%|█████████████████████████████████████████████████████████████████| 5/5 [00:07<00:00,  1.49s/it]\n"
     ]
    },
    {
     "name": "stdout",
     "output_type": "stream",
     "text": [
      "14/30: ./test/raw/hw1_q1_810102066_male.mp3\n"
     ]
    },
    {
     "name": "stderr",
     "output_type": "stream",
     "text": [
      "/home/omid/.pyenv/versions/3.11.9/lib/python3.11/site-packages/pyloudnorm/normalize.py:62: UserWarning: Possible clipped samples in output.\n",
      "  warnings.warn(\"Possible clipped samples in output.\")\n",
      "100%|█████████████████████████████████████████████████████████████████| 5/5 [00:01<00:00,  3.84it/s]\n",
      "/home/omid/.pyenv/versions/3.11.9/lib/python3.11/site-packages/pyloudnorm/normalize.py:62: UserWarning: Possible clipped samples in output.\n",
      "  warnings.warn(\"Possible clipped samples in output.\")\n"
     ]
    },
    {
     "name": "stdout",
     "output_type": "stream",
     "text": [
      "15/30: ./test/raw/hw1_intro_810100268_female.mp3\n"
     ]
    },
    {
     "name": "stderr",
     "output_type": "stream",
     "text": [
      "100%|█████████████████████████████████████████████████████████████████| 4/4 [00:00<00:00, 13.00it/s]\n",
      "/home/omid/.pyenv/versions/3.11.9/lib/python3.11/site-packages/pyloudnorm/normalize.py:62: UserWarning: Possible clipped samples in output.\n",
      "  warnings.warn(\"Possible clipped samples in output.\")\n"
     ]
    },
    {
     "name": "stdout",
     "output_type": "stream",
     "text": [
      "16/30: ./test/raw/hw1_intro_810101423_male.mp3\n"
     ]
    },
    {
     "name": "stderr",
     "output_type": "stream",
     "text": [
      "100%|█████████████████████████████████████████████████████████████████| 4/4 [00:00<00:00,  6.69it/s]\n"
     ]
    },
    {
     "name": "stdout",
     "output_type": "stream",
     "text": [
      "17/30: ./test/raw/hw1_q5_810103093_female.mp3\n"
     ]
    },
    {
     "name": "stderr",
     "output_type": "stream",
     "text": [
      "/home/omid/.pyenv/versions/3.11.9/lib/python3.11/site-packages/pyloudnorm/normalize.py:62: UserWarning: Possible clipped samples in output.\n",
      "  warnings.warn(\"Possible clipped samples in output.\")\n",
      "100%|█████████████████████████████████████████████████████████████████| 5/5 [00:04<00:00,  1.13it/s]\n"
     ]
    },
    {
     "name": "stdout",
     "output_type": "stream",
     "text": [
      "18/30: ./test/raw/hw1_q1_810199328_male.mp3\n"
     ]
    },
    {
     "name": "stderr",
     "output_type": "stream",
     "text": [
      "/home/omid/.pyenv/versions/3.11.9/lib/python3.11/site-packages/pyloudnorm/normalize.py:62: UserWarning: Possible clipped samples in output.\n",
      "  warnings.warn(\"Possible clipped samples in output.\")\n",
      "100%|█████████████████████████████████████████████████████████████████| 5/5 [00:11<00:00,  2.27s/it]\n"
     ]
    },
    {
     "name": "stdout",
     "output_type": "stream",
     "text": [
      "19/30: ./test/raw/hw1_q4_610300070_female.mp3\n"
     ]
    },
    {
     "name": "stderr",
     "output_type": "stream",
     "text": [
      "/home/omid/.pyenv/versions/3.11.9/lib/python3.11/site-packages/pyloudnorm/normalize.py:62: UserWarning: Possible clipped samples in output.\n",
      "  warnings.warn(\"Possible clipped samples in output.\")\n",
      "100%|█████████████████████████████████████████████████████████████████| 5/5 [00:02<00:00,  2.09it/s]\n"
     ]
    },
    {
     "name": "stdout",
     "output_type": "stream",
     "text": [
      "20/30: ./test/raw/hw1_q2_810103093_female.mp3\n"
     ]
    },
    {
     "name": "stderr",
     "output_type": "stream",
     "text": [
      "/home/omid/.pyenv/versions/3.11.9/lib/python3.11/site-packages/pyloudnorm/normalize.py:62: UserWarning: Possible clipped samples in output.\n",
      "  warnings.warn(\"Possible clipped samples in output.\")\n",
      "100%|█████████████████████████████████████████████████████████████████| 5/5 [00:04<00:00,  1.03it/s]\n"
     ]
    },
    {
     "name": "stdout",
     "output_type": "stream",
     "text": [
      "21/30: ./test/raw/hw1_q5_810199328_male.mp3\n"
     ]
    },
    {
     "name": "stderr",
     "output_type": "stream",
     "text": [
      "/home/omid/.pyenv/versions/3.11.9/lib/python3.11/site-packages/pyloudnorm/normalize.py:62: UserWarning: Possible clipped samples in output.\n",
      "  warnings.warn(\"Possible clipped samples in output.\")\n",
      "100%|█████████████████████████████████████████████████████████████████| 5/5 [00:12<00:00,  2.51s/it]\n"
     ]
    },
    {
     "name": "stdout",
     "output_type": "stream",
     "text": [
      "22/30: ./test/raw/hw1_q3_810199570_female.mp3\n"
     ]
    },
    {
     "name": "stderr",
     "output_type": "stream",
     "text": [
      "/home/omid/.pyenv/versions/3.11.9/lib/python3.11/site-packages/pyloudnorm/normalize.py:62: UserWarning: Possible clipped samples in output.\n",
      "  warnings.warn(\"Possible clipped samples in output.\")\n",
      "100%|█████████████████████████████████████████████████████████████████| 5/5 [00:01<00:00,  2.54it/s]\n"
     ]
    },
    {
     "name": "stdout",
     "output_type": "stream",
     "text": [
      "23/30: ./test/raw/hw1_q3_810101471_female.mp3\n"
     ]
    },
    {
     "name": "stderr",
     "output_type": "stream",
     "text": [
      "/home/omid/.pyenv/versions/3.11.9/lib/python3.11/site-packages/pyloudnorm/normalize.py:62: UserWarning: Possible clipped samples in output.\n",
      "  warnings.warn(\"Possible clipped samples in output.\")\n",
      "100%|█████████████████████████████████████████████████████████████████| 5/5 [00:01<00:00,  2.61it/s]\n",
      "/home/omid/.pyenv/versions/3.11.9/lib/python3.11/site-packages/pyloudnorm/normalize.py:62: UserWarning: Possible clipped samples in output.\n",
      "  warnings.warn(\"Possible clipped samples in output.\")\n"
     ]
    },
    {
     "name": "stdout",
     "output_type": "stream",
     "text": [
      "24/30: ./test/raw/hw1_q4_810102066_male.mp3\n"
     ]
    },
    {
     "name": "stderr",
     "output_type": "stream",
     "text": [
      "100%|█████████████████████████████████████████████████████████████████| 5/5 [00:00<00:00,  5.76it/s]\n"
     ]
    },
    {
     "name": "stdout",
     "output_type": "stream",
     "text": [
      "25/30: ./test/raw/hw1_q4_810103197_female.mp3\n"
     ]
    },
    {
     "name": "stderr",
     "output_type": "stream",
     "text": [
      "/home/omid/.pyenv/versions/3.11.9/lib/python3.11/site-packages/pyloudnorm/normalize.py:62: UserWarning: Possible clipped samples in output.\n",
      "  warnings.warn(\"Possible clipped samples in output.\")\n",
      "100%|█████████████████████████████████████████████████████████████████| 5/5 [00:06<00:00,  1.22s/it]\n"
     ]
    },
    {
     "name": "stdout",
     "output_type": "stream",
     "text": [
      "26/30: ./test/raw/hw1_q1_810101471_female.mp3\n"
     ]
    },
    {
     "name": "stderr",
     "output_type": "stream",
     "text": [
      "/home/omid/.pyenv/versions/3.11.9/lib/python3.11/site-packages/pyloudnorm/normalize.py:62: UserWarning: Possible clipped samples in output.\n",
      "  warnings.warn(\"Possible clipped samples in output.\")\n",
      "100%|█████████████████████████████████████████████████████████████████| 5/5 [00:01<00:00,  2.87it/s]\n",
      "/home/omid/.pyenv/versions/3.11.9/lib/python3.11/site-packages/pyloudnorm/normalize.py:62: UserWarning: Possible clipped samples in output.\n",
      "  warnings.warn(\"Possible clipped samples in output.\")\n"
     ]
    },
    {
     "name": "stdout",
     "output_type": "stream",
     "text": [
      "27/30: ./test/raw/hw1_intro_810600065_female.mp3.mp3\n"
     ]
    },
    {
     "name": "stderr",
     "output_type": "stream",
     "text": [
      "100%|█████████████████████████████████████████████████████████████████| 4/4 [00:00<00:00, 29.79it/s]\n"
     ]
    },
    {
     "name": "stdout",
     "output_type": "stream",
     "text": [
      "28/30: ./test/raw/hw1_q4_810600065_female.mp3.mp3\n"
     ]
    },
    {
     "name": "stderr",
     "output_type": "stream",
     "text": [
      "/home/omid/.pyenv/versions/3.11.9/lib/python3.11/site-packages/pyloudnorm/normalize.py:62: UserWarning: Possible clipped samples in output.\n",
      "  warnings.warn(\"Possible clipped samples in output.\")\n",
      "100%|█████████████████████████████████████████████████████████████████| 5/5 [00:01<00:00,  2.91it/s]\n"
     ]
    },
    {
     "name": "stdout",
     "output_type": "stream",
     "text": [
      "29/30: ./test/raw/hw1_intro_810103136_male.mp3\n"
     ]
    },
    {
     "name": "stderr",
     "output_type": "stream",
     "text": [
      "100%|█████████████████████████████████████████████████████████████████| 4/4 [00:00<00:00, 16.73it/s]\n"
     ]
    },
    {
     "name": "stdout",
     "output_type": "stream",
     "text": [
      "30/30: ./test/raw/hw1_q1_810103172_male.mp3\n"
     ]
    },
    {
     "name": "stderr",
     "output_type": "stream",
     "text": [
      "/home/omid/.pyenv/versions/3.11.9/lib/python3.11/site-packages/pyloudnorm/normalize.py:62: UserWarning: Possible clipped samples in output.\n",
      "  warnings.warn(\"Possible clipped samples in output.\")\n",
      "100%|█████████████████████████████████████████████████████████████████| 5/5 [00:01<00:00,  4.11it/s]\n"
     ]
    }
   ],
   "source": [
    "TP, TN, FP, FN = 0, 0, 0, 0\n",
    "for i, (test_file, label) in enumerate(test_data):\n",
    "    print(f\"{i+1}/{len(test_data)}: {test_file}\")\n",
    "    prediction = detect_gender(test_file, 'saved_models/svm_3.joblib')\n",
    "    \n",
    "    if prediction == 1:\n",
    "        if label == 1:\n",
    "            TP += 1\n",
    "        else:\n",
    "            FP += 1\n",
    "    else:\n",
    "        if label == 0:\n",
    "            TN += 1\n",
    "        else:\n",
    "            FN += 1\n"
   ]
  },
  {
   "cell_type": "code",
   "execution_count": 16,
   "id": "704425ab-02e4-4d5b-877e-71748e5c31e9",
   "metadata": {},
   "outputs": [
    {
     "data": {
      "image/png": "[encoded data removed]",
      "text/plain": [
       "<Figure size 800x600 with 2 Axes>"
      ]
     },
     "metadata": {},
     "output_type": "display_data"
    },
    {
     "data": {
      "image/png": "[encoded data removed]",
      "text/plain": [
       "<Figure size 800x600 with 1 Axes>"
      ]
     },
     "metadata": {},
     "output_type": "display_data"
    }
   ],
   "source": [
    "import numpy as np\n",
    "import matplotlib.pyplot as plt\n",
    "import seaborn as sns\n",
    "from sklearn.metrics import confusion_matrix, roc_curve, auc\n",
    "\n",
    "def plot_confusion_matrix_and_roc(TP, TN, FP, FN):\n",
    "    cm = np.array([[TN, FP],\n",
    "                   [FN, TP]])\n",
    "\n",
    "    plt.figure(figsize=(8, 6))\n",
    "    sns.heatmap(cm, annot=True, fmt='d', cmap='Blues', \n",
    "                xticklabels=['Predicted Negative', 'Predicted Positive'],\n",
    "                yticklabels=['Actual Negative', 'Actual Positive'])\n",
    "    plt.ylabel('Actual')\n",
    "    plt.xlabel('Predicted')\n",
    "    plt.title('Confusion Matrix')\n",
    "    plt.show()\n",
    "\n",
    "    y_true = [1] * TP + [0] * TN + [1] * FN + [0] * FP  \n",
    "    y_scores = [0.9] * TP + [0.7] * TN + [0.4] * FN + [0.3] * FP\n",
    "\n",
    "    fpr, tpr, thresholds = roc_curve(y_true, y_scores)\n",
    "    roc_auc = auc(fpr, tpr)\n",
    "\n",
    "    plt.figure(figsize=(8, 6))\n",
    "    plt.plot(fpr, tpr, color='blue', lw=2, label='ROC curve (area = {:.2f})'.format(roc_auc))\n",
    "    plt.plot([0, 1], [0, 1], color='red', lw=2, linestyle='--')\n",
    "    plt.xlim([0.0, 1.0])\n",
    "    plt.ylim([0.0, 1.05])\n",
    "    plt.xlabel('False Positive Rate')\n",
    "    plt.ylabel('True Positive Rate')\n",
    "    plt.title('Receiver Operating Characteristic (ROC) Curve')\n",
    "    plt.legend(loc=\"lower right\")\n",
    "    plt.show()\n",
    "\n",
    "plot_confusion_matrix_and_roc(TP, TN, FP, FN)"
   ]
  }
 ],
 "metadata": {
  "kernelspec": {
   "display_name": "Python 3 (ipykernel)",
   "language": "python",
   "name": "python3"
  },
  "language_info": {
   "codemirror_mode": {
    "name": "ipython",
    "version": 3
   },
   "file_extension": ".py",
   "mimetype": "text/x-python",
   "name": "python",
   "nbconvert_exporter": "python",
   "pygments_lexer": "ipython3",
   "version": "3.11.9"
  }
 },
 "nbformat": 4,
 "nbformat_minor": 5
}
