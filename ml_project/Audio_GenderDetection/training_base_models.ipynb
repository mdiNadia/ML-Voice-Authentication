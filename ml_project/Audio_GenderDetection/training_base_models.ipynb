{
 "cells": [
  {
   "cell_type": "markdown",
   "id": "26fc58fe-1600-43da-880e-14f85c2e8853",
   "metadata": {},
   "source": [
    "<h1>Description:</h1>\n",
    "<p>In this notebook, we are going to train 5 differente classifiers for gender detection. These classifiers are trained on all features .So train and test datasets includes all features, extracted by seven different feature extraction methods.</p>"
   ]
  },
  {
   "cell_type": "markdown",
   "id": "4be282d0-e923-4c53-adfb-26fe249f8b22",
   "metadata": {},
   "source": [
    "<h3>1. Import required libraries.</h3>"
   ]
  },
  {
   "cell_type": "code",
   "execution_count": 1,
   "id": "e8335280-8e0f-4f45-9360-3ecd959f8929",
   "metadata": {},
   "outputs": [],
   "source": [
    "import os\n",
    "import joblib\n",
    "import shutil\n",
    "import numpy as np\n",
    "import pandas as pd\n",
    "\n",
    "from sklearn.preprocessing import StandardScaler\n",
    "\n",
    "from models import AdaBoost\n",
    "from models import KNearestNeighbors\n",
    "from models import LogisticRegression\n",
    "from models import MultiLayerPerceptron\n",
    "from models import SupportVectorMachine\n",
    "\n",
    "import sys\n",
    "sys.path.insert(1, os.path.join(\"..\", \"Audio_Scripts\"))\n",
    "sys.path.insert(1, os.path.join(\"..\"))\n",
    "from Audio_Scripts import audio_utils as au\n",
    "from Audio_Scripts import preprocessing\n",
    "from Audio_Scripts import featrue_extraction"
   ]
  },
  {
   "cell_type": "markdown",
   "id": "d8791894-e063-4e44-b300-b85263211b14",
   "metadata": {},
   "source": [
    "<h3>2. Read train Data.</h3>"
   ]
  },
  {
   "cell_type": "code",
   "execution_count": 2,
   "id": "835a9dad-8014-4447-99ed-68ad99bf202e",
   "metadata": {},
   "outputs": [
    {
     "name": "stdout",
     "output_type": "stream",
     "text": [
      "Num train samples: 14245\n"
     ]
    }
   ],
   "source": [
    "train_data = os.path.join(\"train\", \"train_features.csv\")\n",
    "\n",
    "train_df = pd.read_csv(train_data)\n",
    "\n",
    "print(\"Num train samples:\", len(train_df))"
   ]
  },
  {
   "cell_type": "code",
   "execution_count": 3,
   "id": "5824c0ed-b4d3-42a9-8dee-7ca6245e2aac",
   "metadata": {},
   "outputs": [
    {
     "data": {
      "text/html": [
       "<div>\n",
       "<style scoped>\n",
       "    .dataframe tbody tr th:only-of-type {\n",
       "        vertical-align: middle;\n",
       "    }\n",
       "\n",
       "    .dataframe tbody tr th {\n",
       "        vertical-align: top;\n",
       "    }\n",
       "\n",
       "    .dataframe thead th {\n",
       "        text-align: right;\n",
       "    }\n",
       "</style>\n",
       "<table border=\"1\" class=\"dataframe\">\n",
       "  <thead>\n",
       "    <tr style=\"text-align: right;\">\n",
       "      <th></th>\n",
       "      <th>spectral_centroid_1</th>\n",
       "      <th>zcr</th>\n",
       "      <th>spectral_contrast_1</th>\n",
       "      <th>spectral_contrast_2</th>\n",
       "      <th>spectral_contrast_3</th>\n",
       "      <th>spectral_contrast_4</th>\n",
       "      <th>spectral_contrast_5</th>\n",
       "      <th>spectral_contrast_6</th>\n",
       "      <th>spectral_contrast_7</th>\n",
       "      <th>bandwidth_1</th>\n",
       "      <th>...</th>\n",
       "      <th>log_mel_32</th>\n",
       "      <th>log_mel_33</th>\n",
       "      <th>log_mel_34</th>\n",
       "      <th>log_mel_35</th>\n",
       "      <th>log_mel_36</th>\n",
       "      <th>log_mel_37</th>\n",
       "      <th>log_mel_38</th>\n",
       "      <th>log_mel_39</th>\n",
       "      <th>log_mel_40</th>\n",
       "      <th>label</th>\n",
       "    </tr>\n",
       "  </thead>\n",
       "  <tbody>\n",
       "    <tr>\n",
       "      <th>0</th>\n",
       "      <td>739.038614</td>\n",
       "      <td>0.031171</td>\n",
       "      <td>27.815607</td>\n",
       "      <td>12.151943</td>\n",
       "      <td>17.204828</td>\n",
       "      <td>18.749430</td>\n",
       "      <td>16.981097</td>\n",
       "      <td>29.401506</td>\n",
       "      <td>16.357674</td>\n",
       "      <td>934.112552</td>\n",
       "      <td>...</td>\n",
       "      <td>NaN</td>\n",
       "      <td>NaN</td>\n",
       "      <td>NaN</td>\n",
       "      <td>NaN</td>\n",
       "      <td>NaN</td>\n",
       "      <td>NaN</td>\n",
       "      <td>NaN</td>\n",
       "      <td>NaN</td>\n",
       "      <td>NaN</td>\n",
       "      <td>1</td>\n",
       "    </tr>\n",
       "    <tr>\n",
       "      <th>1</th>\n",
       "      <td>1535.587901</td>\n",
       "      <td>0.103591</td>\n",
       "      <td>25.954269</td>\n",
       "      <td>11.522231</td>\n",
       "      <td>14.163222</td>\n",
       "      <td>14.854564</td>\n",
       "      <td>15.763391</td>\n",
       "      <td>27.093987</td>\n",
       "      <td>18.719794</td>\n",
       "      <td>1353.819277</td>\n",
       "      <td>...</td>\n",
       "      <td>-58.18674</td>\n",
       "      <td>-64.900536</td>\n",
       "      <td>-70.170220</td>\n",
       "      <td>-73.150696</td>\n",
       "      <td>-74.81644</td>\n",
       "      <td>-75.305786</td>\n",
       "      <td>-75.74922</td>\n",
       "      <td>-76.03233</td>\n",
       "      <td>-76.15653</td>\n",
       "      <td>1</td>\n",
       "    </tr>\n",
       "    <tr>\n",
       "      <th>2</th>\n",
       "      <td>1068.747600</td>\n",
       "      <td>0.045504</td>\n",
       "      <td>23.275472</td>\n",
       "      <td>10.015976</td>\n",
       "      <td>13.768247</td>\n",
       "      <td>14.010227</td>\n",
       "      <td>14.435607</td>\n",
       "      <td>29.156335</td>\n",
       "      <td>14.468852</td>\n",
       "      <td>1152.617126</td>\n",
       "      <td>...</td>\n",
       "      <td>NaN</td>\n",
       "      <td>NaN</td>\n",
       "      <td>NaN</td>\n",
       "      <td>NaN</td>\n",
       "      <td>NaN</td>\n",
       "      <td>NaN</td>\n",
       "      <td>NaN</td>\n",
       "      <td>NaN</td>\n",
       "      <td>NaN</td>\n",
       "      <td>1</td>\n",
       "    </tr>\n",
       "    <tr>\n",
       "      <th>3</th>\n",
       "      <td>1074.052862</td>\n",
       "      <td>0.056438</td>\n",
       "      <td>25.212379</td>\n",
       "      <td>10.210047</td>\n",
       "      <td>14.449663</td>\n",
       "      <td>13.479271</td>\n",
       "      <td>14.042415</td>\n",
       "      <td>28.809137</td>\n",
       "      <td>17.448540</td>\n",
       "      <td>1145.720046</td>\n",
       "      <td>...</td>\n",
       "      <td>-69.26463</td>\n",
       "      <td>-74.403310</td>\n",
       "      <td>-77.527145</td>\n",
       "      <td>-78.346000</td>\n",
       "      <td>-78.83955</td>\n",
       "      <td>-78.918790</td>\n",
       "      <td>-79.04058</td>\n",
       "      <td>-79.22148</td>\n",
       "      <td>-79.28845</td>\n",
       "      <td>1</td>\n",
       "    </tr>\n",
       "    <tr>\n",
       "      <th>4</th>\n",
       "      <td>1009.818188</td>\n",
       "      <td>0.059022</td>\n",
       "      <td>24.587601</td>\n",
       "      <td>15.308203</td>\n",
       "      <td>14.656615</td>\n",
       "      <td>19.329420</td>\n",
       "      <td>19.580319</td>\n",
       "      <td>30.075526</td>\n",
       "      <td>16.159574</td>\n",
       "      <td>1007.718945</td>\n",
       "      <td>...</td>\n",
       "      <td>NaN</td>\n",
       "      <td>NaN</td>\n",
       "      <td>NaN</td>\n",
       "      <td>NaN</td>\n",
       "      <td>NaN</td>\n",
       "      <td>NaN</td>\n",
       "      <td>NaN</td>\n",
       "      <td>NaN</td>\n",
       "      <td>NaN</td>\n",
       "      <td>0</td>\n",
       "    </tr>\n",
       "  </tbody>\n",
       "</table>\n",
       "<p>5 rows × 65 columns</p>\n",
       "</div>"
      ],
      "text/plain": [
       "   spectral_centroid_1       zcr  spectral_contrast_1  spectral_contrast_2  \\\n",
       "0           739.038614  0.031171            27.815607            12.151943   \n",
       "1          1535.587901  0.103591            25.954269            11.522231   \n",
       "2          1068.747600  0.045504            23.275472            10.015976   \n",
       "3          1074.052862  0.056438            25.212379            10.210047   \n",
       "4          1009.818188  0.059022            24.587601            15.308203   \n",
       "\n",
       "   spectral_contrast_3  spectral_contrast_4  spectral_contrast_5  \\\n",
       "0            17.204828            18.749430            16.981097   \n",
       "1            14.163222            14.854564            15.763391   \n",
       "2            13.768247            14.010227            14.435607   \n",
       "3            14.449663            13.479271            14.042415   \n",
       "4            14.656615            19.329420            19.580319   \n",
       "\n",
       "   spectral_contrast_6  spectral_contrast_7  bandwidth_1  ...  log_mel_32  \\\n",
       "0            29.401506            16.357674   934.112552  ...         NaN   \n",
       "1            27.093987            18.719794  1353.819277  ...   -58.18674   \n",
       "2            29.156335            14.468852  1152.617126  ...         NaN   \n",
       "3            28.809137            17.448540  1145.720046  ...   -69.26463   \n",
       "4            30.075526            16.159574  1007.718945  ...         NaN   \n",
       "\n",
       "   log_mel_33  log_mel_34  log_mel_35  log_mel_36  log_mel_37  log_mel_38  \\\n",
       "0         NaN         NaN         NaN         NaN         NaN         NaN   \n",
       "1  -64.900536  -70.170220  -73.150696   -74.81644  -75.305786   -75.74922   \n",
       "2         NaN         NaN         NaN         NaN         NaN         NaN   \n",
       "3  -74.403310  -77.527145  -78.346000   -78.83955  -78.918790   -79.04058   \n",
       "4         NaN         NaN         NaN         NaN         NaN         NaN   \n",
       "\n",
       "   log_mel_39  log_mel_40  label  \n",
       "0         NaN         NaN      1  \n",
       "1   -76.03233   -76.15653      1  \n",
       "2         NaN         NaN      1  \n",
       "3   -79.22148   -79.28845      1  \n",
       "4         NaN         NaN      0  \n",
       "\n",
       "[5 rows x 65 columns]"
      ]
     },
     "execution_count": 3,
     "metadata": {},
     "output_type": "execute_result"
    }
   ],
   "source": [
    "train_df.head()"
   ]
  },
  {
   "cell_type": "code",
   "execution_count": 4,
   "id": "efc6edeb-e749-4963-bcd6-cf925466d453",
   "metadata": {},
   "outputs": [
    {
     "data": {
      "text/plain": [
       "label\n",
       "1    0.561671\n",
       "0    0.438329\n",
       "Name: count, dtype: float64"
      ]
     },
     "execution_count": 4,
     "metadata": {},
     "output_type": "execute_result"
    }
   ],
   "source": [
    "train_df['label'].value_counts() / len(train_df)"
   ]
  },
  {
   "cell_type": "markdown",
   "id": "0039fade-d313-4451-9a46-cd8ee3743171",
   "metadata": {},
   "source": [
    "<h3>3. Prepare data for train and test.</h3>\n",
    "Here , since we have done every required step while we were preparing our data, we only need to scale (normalize) the features."
   ]
  },
  {
   "cell_type": "code",
   "execution_count": 5,
   "id": "202d3522-ade0-48af-8cb5-18715f056375",
   "metadata": {},
   "outputs": [],
   "source": [
    "x_train, y_train = np.array(train_df.drop(\"label\", axis=1)), np.array(train_df['label'])\n",
    "\n",
    "col_mean = np.nanmean(x_train, axis=0)\n",
    "inds = np.where(np.isnan(x_train))\n",
    "x_train[inds] = np.take(col_mean, inds[1])\n",
    "\n",
    "# Scale features\n",
    "std_scaler = StandardScaler()\n",
    "x_train_scaled = std_scaler.fit_transform(x_train)"
   ]
  },
  {
   "cell_type": "code",
   "execution_count": 6,
   "id": "c248d46e-65a2-4b9e-b063-3d52ebbe1d4b",
   "metadata": {},
   "outputs": [
    {
     "data": {
      "text/plain": [
       "['saved_models/std_scaler.joblib']"
      ]
     },
     "execution_count": 6,
     "metadata": {},
     "output_type": "execute_result"
    }
   ],
   "source": [
    "# save the scaler to use it for testing data.\n",
    "joblib.dump(std_scaler, \"saved_models/std_scaler.joblib\")"
   ]
  },
  {
   "cell_type": "markdown",
   "id": "2b0ddc02-03ca-4346-a8a9-58b99ba5ab65",
   "metadata": {},
   "source": [
    "<h3>4. Train five models and perform cross validation.</h3>\n",
    "Note: The validation is performing on subsets of train data. The inner test set includes the audios of those student which also have some instance in train set. So this way of testing is not reliable."
   ]
  },
  {
   "cell_type": "code",
   "execution_count": 7,
   "id": "3fbc5369-d435-4068-af04-803109218c1b",
   "metadata": {},
   "outputs": [
    {
     "name": "stdout",
     "output_type": "stream",
     "text": [
      "Train and evaluate svm.\n",
      "\tCross val score: [0.98139698 0.97472797 0.97051597 0.97051597 0.97297297]\n",
      "--------------------\n",
      "Train and evaluate mlp.\n",
      "\tCross val score: [0.98736399 0.98736399 0.98631099 0.98104598 0.98595999]\n",
      "--------------------\n",
      "Train and evaluate log.\n",
      "\tCross val score: [0.95612496 0.95647596 0.94840295 0.95121095 0.95261495]\n",
      "--------------------\n",
      "Train and evaluate knn.\n",
      "\tCross val score: [0.98034398 0.97718498 0.97683398 0.97683398 0.97858898]\n",
      "--------------------\n",
      "Train and evaluate ada.\n",
      "\tCross val score: [0.91751492 0.92488592 0.92032292 0.91997192 0.91435591]\n",
      "--------------------\n"
     ]
    }
   ],
   "source": [
    "models = {\n",
    "    \"svm\": SupportVectorMachine(),\n",
    "    \"mlp\": MultiLayerPerceptron(),\n",
    "    \"log\": LogisticRegression(),\n",
    "    \"knn\": KNearestNeighbors(),\n",
    "    \"ada\": AdaBoost(),\n",
    "}\n",
    "\n",
    "for model_name, model in models.items():\n",
    "    print(f\"Train and evaluate {model_name}.\")\n",
    "    scores = model.cross_validate(x_train_scaled, y_train)\n",
    "    print(f\"\\tCross val score: {scores}\")\n",
    "    print(\"-\"*20)"
   ]
  },
  {
   "cell_type": "markdown",
   "id": "422c2caf-644b-4ad6-aa3a-e59aced34ad4",
   "metadata": {},
   "source": [
    "<h2>5. Train models seperatly and test models on test data.</h2>\n",
    "Here, the test data, are audios of completely unknow students. "
   ]
  },
  {
   "cell_type": "code",
   "execution_count": 8,
   "id": "22117756-1340-4801-95d6-f72529c66523",
   "metadata": {},
   "outputs": [
    {
     "data": {
      "text/plain": [
       "[('./test/raw/hw1_q2_610399205_male.mp3', 1),\n",
       " ('./test/raw/hw1_q1a_810103262_male.mp3', 1),\n",
       " ('./test/raw/hw1_q5_810103262_male.mp3', 1),\n",
       " ('./test/raw/hw1_q6_810103108_male.mp3', 1),\n",
       " ('./test/raw/hw1_q4_810103222_male.mp3', 1),\n",
       " ('./test/raw/hw1_intro_810103222_male.mp3', 1),\n",
       " ('./test/raw/hw1_q1_610300070_female.mp3', 0),\n",
       " ('./test/raw/hw1_intro_810103172_male.mp3', 1),\n",
       " ('./test/raw/hw1_q5_610399205_male.mp3', 1),\n",
       " ('./test/raw/hw1_intro_810103197_female.mp3', 0),\n",
       " ('./test/raw/hw1_q6_810100268_female.mp3', 0),\n",
       " ('./test/raw/hw1_q2_810199570_female.mp3', 0),\n",
       " ('./test/raw/hw1_q2_810103108_male.mp3', 1),\n",
       " ('./test/raw/hw1_q1_810102066_male.mp3', 1),\n",
       " ('./test/raw/hw1_intro_810100268_female.mp3', 0),\n",
       " ('./test/raw/hw1_intro_810101423_male.mp3', 1),\n",
       " ('./test/raw/hw1_q5_810103093_female.mp3', 0),\n",
       " ('./test/raw/hw1_q1_810199328_male.mp3', 1),\n",
       " ('./test/raw/hw1_q4_610300070_female.mp3', 0),\n",
       " ('./test/raw/hw1_q2_810103093_female.mp3', 0),\n",
       " ('./test/raw/hw1_q5_810199328_male.mp3', 1),\n",
       " ('./test/raw/hw1_q3_810199570_female.mp3', 0),\n",
       " ('./test/raw/hw1_q3_810101471_female.mp3', 0),\n",
       " ('./test/raw/hw1_q4_810102066_male.mp3', 1),\n",
       " ('./test/raw/hw1_q4_810103197_female.mp3', 0),\n",
       " ('./test/raw/hw1_q1_810101471_female.mp3', 0),\n",
       " ('./test/raw/hw1_intro_810600065_female.mp3.mp3', 0),\n",
       " ('./test/raw/hw1_q4_810600065_female.mp3.mp3', 0),\n",
       " ('./test/raw/hw1_intro_810103136_male.mp3', 1),\n",
       " ('./test/raw/hw1_q1_810103172_male.mp3', 1)]"
      ]
     },
     "execution_count": 8,
     "metadata": {},
     "output_type": "execute_result"
    }
   ],
   "source": [
    "from inference import detect_gender\n",
    "test_data_path = os.path.join(\".\", \"test\", \"raw\")\n",
    "\n",
    "\n",
    "test_data = [os.path.join(test_data_path, t) for t in os.listdir(test_data_path)]\n",
    "test_data = [(t, 0 if \"female\" in t else 1) for t in test_data]\n",
    "test_data"
   ]
  },
  {
   "cell_type": "markdown",
   "id": "e94c7d09-3c31-4609-8715-bc4f760c91ff",
   "metadata": {},
   "source": [
    "<h4>Support Vector Machine</h4>"
   ]
  },
  {
   "cell_type": "code",
   "execution_count": 9,
   "id": "4eeb38a1-6786-4be4-8c1d-c0bee0dd121f",
   "metadata": {},
   "outputs": [
    {
     "data": {
      "text/plain": [
       "['saved_models/svm.joblib']"
      ]
     },
     "execution_count": 9,
     "metadata": {},
     "output_type": "execute_result"
    }
   ],
   "source": [
    "svm_clf = SupportVectorMachine()\n",
    "svm_clf.train(x_train_scaled, y_train)\n",
    "\n",
    "joblib.dump(svm_clf, os.path.join(\"saved_models\", \"svm.joblib\"))"
   ]
  },
  {
   "cell_type": "code",
   "execution_count": 10,
   "id": "82ec1021-a3cf-4048-a313-a4024fbdc097",
   "metadata": {
    "scrolled": true
   },
   "outputs": [
    {
     "name": "stdout",
     "output_type": "stream",
     "text": [
      "1/30: ./test/raw/hw1_q2_610399205_male.mp3\n"
     ]
    },
    {
     "name": "stderr",
     "output_type": "stream",
     "text": [
      "/home/omid/.pyenv/versions/3.11.9/lib/python3.11/site-packages/pyloudnorm/normalize.py:62: UserWarning: Possible clipped samples in output.\n",
      "  warnings.warn(\"Possible clipped samples in output.\")\n",
      "100%|█████████████████████████████████████████████████████████████████| 5/5 [00:19<00:00,  3.80s/it]\n"
     ]
    },
    {
     "name": "stdout",
     "output_type": "stream",
     "text": [
      "2/30: ./test/raw/hw1_q1a_810103262_male.mp3\n"
     ]
    },
    {
     "name": "stderr",
     "output_type": "stream",
     "text": [
      "/home/omid/.pyenv/versions/3.11.9/lib/python3.11/site-packages/pyloudnorm/normalize.py:62: UserWarning: Possible clipped samples in output.\n",
      "  warnings.warn(\"Possible clipped samples in output.\")\n",
      "100%|█████████████████████████████████████████████████████████████████| 5/5 [00:16<00:00,  3.28s/it]\n"
     ]
    },
    {
     "name": "stdout",
     "output_type": "stream",
     "text": [
      "3/30: ./test/raw/hw1_q5_810103262_male.mp3\n"
     ]
    },
    {
     "name": "stderr",
     "output_type": "stream",
     "text": [
      "/home/omid/.pyenv/versions/3.11.9/lib/python3.11/site-packages/pyloudnorm/normalize.py:62: UserWarning: Possible clipped samples in output.\n",
      "  warnings.warn(\"Possible clipped samples in output.\")\n",
      "100%|█████████████████████████████████████████████████████████████████| 5/5 [00:07<00:00,  1.46s/it]\n"
     ]
    },
    {
     "name": "stdout",
     "output_type": "stream",
     "text": [
      "4/30: ./test/raw/hw1_q6_810103108_male.mp3\n"
     ]
    },
    {
     "name": "stderr",
     "output_type": "stream",
     "text": [
      "/home/omid/.pyenv/versions/3.11.9/lib/python3.11/site-packages/pyloudnorm/normalize.py:62: UserWarning: Possible clipped samples in output.\n",
      "  warnings.warn(\"Possible clipped samples in output.\")\n",
      "100%|█████████████████████████████████████████████████████████████████| 5/5 [00:53<00:00, 10.76s/it]\n"
     ]
    },
    {
     "name": "stdout",
     "output_type": "stream",
     "text": [
      "5/30: ./test/raw/hw1_q4_810103222_male.mp3\n"
     ]
    },
    {
     "name": "stderr",
     "output_type": "stream",
     "text": [
      "/home/omid/.pyenv/versions/3.11.9/lib/python3.11/site-packages/pyloudnorm/normalize.py:62: UserWarning: Possible clipped samples in output.\n",
      "  warnings.warn(\"Possible clipped samples in output.\")\n",
      "100%|█████████████████████████████████████████████████████████████████| 5/5 [00:31<00:00,  6.37s/it]\n"
     ]
    },
    {
     "name": "stdout",
     "output_type": "stream",
     "text": [
      "6/30: ./test/raw/hw1_intro_810103222_male.mp3\n"
     ]
    },
    {
     "name": "stderr",
     "output_type": "stream",
     "text": [
      "100%|█████████████████████████████████████████████████████████████████| 4/4 [00:00<00:00,  4.78it/s]\n"
     ]
    },
    {
     "name": "stdout",
     "output_type": "stream",
     "text": [
      "7/30: ./test/raw/hw1_q1_610300070_female.mp3\n"
     ]
    },
    {
     "name": "stderr",
     "output_type": "stream",
     "text": [
      "/home/omid/.pyenv/versions/3.11.9/lib/python3.11/site-packages/pyloudnorm/normalize.py:62: UserWarning: Possible clipped samples in output.\n",
      "  warnings.warn(\"Possible clipped samples in output.\")\n",
      "100%|█████████████████████████████████████████████████████████████████| 5/5 [00:33<00:00,  6.62s/it]\n",
      "/home/omid/.pyenv/versions/3.11.9/lib/python3.11/site-packages/pyloudnorm/normalize.py:62: UserWarning: Possible clipped samples in output.\n",
      "  warnings.warn(\"Possible clipped samples in output.\")\n"
     ]
    },
    {
     "name": "stdout",
     "output_type": "stream",
     "text": [
      "8/30: ./test/raw/hw1_intro_810103172_male.mp3\n"
     ]
    },
    {
     "name": "stderr",
     "output_type": "stream",
     "text": [
      "100%|█████████████████████████████████████████████████████████████████| 4/4 [00:00<00:00,  5.05it/s]\n"
     ]
    },
    {
     "name": "stdout",
     "output_type": "stream",
     "text": [
      "9/30: ./test/raw/hw1_q5_610399205_male.mp3\n"
     ]
    },
    {
     "name": "stderr",
     "output_type": "stream",
     "text": [
      "/home/omid/.pyenv/versions/3.11.9/lib/python3.11/site-packages/pyloudnorm/normalize.py:62: UserWarning: Possible clipped samples in output.\n",
      "  warnings.warn(\"Possible clipped samples in output.\")\n",
      "100%|█████████████████████████████████████████████████████████████████| 5/5 [00:16<00:00,  3.38s/it]\n",
      "/home/omid/.pyenv/versions/3.11.9/lib/python3.11/site-packages/pyloudnorm/normalize.py:62: UserWarning: Possible clipped samples in output.\n",
      "  warnings.warn(\"Possible clipped samples in output.\")\n"
     ]
    },
    {
     "name": "stdout",
     "output_type": "stream",
     "text": [
      "10/30: ./test/raw/hw1_intro_810103197_female.mp3\n"
     ]
    },
    {
     "name": "stderr",
     "output_type": "stream",
     "text": [
      "100%|█████████████████████████████████████████████████████████████████| 4/4 [00:00<00:00,  4.42it/s]\n"
     ]
    },
    {
     "name": "stdout",
     "output_type": "stream",
     "text": [
      "11/30: ./test/raw/hw1_q6_810100268_female.mp3\n"
     ]
    },
    {
     "name": "stderr",
     "output_type": "stream",
     "text": [
      "/home/omid/.pyenv/versions/3.11.9/lib/python3.11/site-packages/pyloudnorm/normalize.py:62: UserWarning: Possible clipped samples in output.\n",
      "  warnings.warn(\"Possible clipped samples in output.\")\n",
      "100%|█████████████████████████████████████████████████████████████████| 5/5 [00:15<00:00,  3.14s/it]\n"
     ]
    },
    {
     "name": "stdout",
     "output_type": "stream",
     "text": [
      "12/30: ./test/raw/hw1_q2_810199570_female.mp3\n"
     ]
    },
    {
     "name": "stderr",
     "output_type": "stream",
     "text": [
      "/home/omid/.pyenv/versions/3.11.9/lib/python3.11/site-packages/pyloudnorm/normalize.py:62: UserWarning: Possible clipped samples in output.\n",
      "  warnings.warn(\"Possible clipped samples in output.\")\n",
      "100%|█████████████████████████████████████████████████████████████████| 5/5 [00:10<00:00,  2.00s/it]\n"
     ]
    },
    {
     "name": "stdout",
     "output_type": "stream",
     "text": [
      "13/30: ./test/raw/hw1_q2_810103108_male.mp3\n"
     ]
    },
    {
     "name": "stderr",
     "output_type": "stream",
     "text": [
      "/home/omid/.pyenv/versions/3.11.9/lib/python3.11/site-packages/pyloudnorm/normalize.py:62: UserWarning: Possible clipped samples in output.\n",
      "  warnings.warn(\"Possible clipped samples in output.\")\n",
      "100%|█████████████████████████████████████████████████████████████████| 5/5 [00:36<00:00,  7.24s/it]\n"
     ]
    },
    {
     "name": "stdout",
     "output_type": "stream",
     "text": [
      "14/30: ./test/raw/hw1_q1_810102066_male.mp3\n"
     ]
    },
    {
     "name": "stderr",
     "output_type": "stream",
     "text": [
      "/home/omid/.pyenv/versions/3.11.9/lib/python3.11/site-packages/pyloudnorm/normalize.py:62: UserWarning: Possible clipped samples in output.\n",
      "  warnings.warn(\"Possible clipped samples in output.\")\n",
      "100%|█████████████████████████████████████████████████████████████████| 5/5 [00:05<00:00,  1.10s/it]\n",
      "/home/omid/.pyenv/versions/3.11.9/lib/python3.11/site-packages/pyloudnorm/normalize.py:62: UserWarning: Possible clipped samples in output.\n",
      "  warnings.warn(\"Possible clipped samples in output.\")\n"
     ]
    },
    {
     "name": "stdout",
     "output_type": "stream",
     "text": [
      "15/30: ./test/raw/hw1_intro_810100268_female.mp3\n"
     ]
    },
    {
     "name": "stderr",
     "output_type": "stream",
     "text": [
      "100%|█████████████████████████████████████████████████████████████████| 4/4 [00:00<00:00,  7.78it/s]\n",
      "/home/omid/.pyenv/versions/3.11.9/lib/python3.11/site-packages/pyloudnorm/normalize.py:62: UserWarning: Possible clipped samples in output.\n",
      "  warnings.warn(\"Possible clipped samples in output.\")\n"
     ]
    },
    {
     "name": "stdout",
     "output_type": "stream",
     "text": [
      "16/30: ./test/raw/hw1_intro_810101423_male.mp3\n"
     ]
    },
    {
     "name": "stderr",
     "output_type": "stream",
     "text": [
      "100%|█████████████████████████████████████████████████████████████████| 4/4 [00:00<00:00,  4.61it/s]\n"
     ]
    },
    {
     "name": "stdout",
     "output_type": "stream",
     "text": [
      "17/30: ./test/raw/hw1_q5_810103093_female.mp3\n"
     ]
    },
    {
     "name": "stderr",
     "output_type": "stream",
     "text": [
      "/home/omid/.pyenv/versions/3.11.9/lib/python3.11/site-packages/pyloudnorm/normalize.py:62: UserWarning: Possible clipped samples in output.\n",
      "  warnings.warn(\"Possible clipped samples in output.\")\n",
      "100%|█████████████████████████████████████████████████████████████████| 5/5 [00:24<00:00,  4.83s/it]\n"
     ]
    },
    {
     "name": "stdout",
     "output_type": "stream",
     "text": [
      "18/30: ./test/raw/hw1_q1_810199328_male.mp3\n"
     ]
    },
    {
     "name": "stderr",
     "output_type": "stream",
     "text": [
      "/home/omid/.pyenv/versions/3.11.9/lib/python3.11/site-packages/pyloudnorm/normalize.py:62: UserWarning: Possible clipped samples in output.\n",
      "  warnings.warn(\"Possible clipped samples in output.\")\n",
      "100%|█████████████████████████████████████████████████████████████████| 5/5 [00:57<00:00, 11.53s/it]\n"
     ]
    },
    {
     "name": "stdout",
     "output_type": "stream",
     "text": [
      "19/30: ./test/raw/hw1_q4_610300070_female.mp3\n"
     ]
    },
    {
     "name": "stderr",
     "output_type": "stream",
     "text": [
      "/home/omid/.pyenv/versions/3.11.9/lib/python3.11/site-packages/pyloudnorm/normalize.py:62: UserWarning: Possible clipped samples in output.\n",
      "  warnings.warn(\"Possible clipped samples in output.\")\n",
      "100%|█████████████████████████████████████████████████████████████████| 5/5 [00:13<00:00,  2.63s/it]\n"
     ]
    },
    {
     "name": "stdout",
     "output_type": "stream",
     "text": [
      "20/30: ./test/raw/hw1_q2_810103093_female.mp3\n"
     ]
    },
    {
     "name": "stderr",
     "output_type": "stream",
     "text": [
      "/home/omid/.pyenv/versions/3.11.9/lib/python3.11/site-packages/pyloudnorm/normalize.py:62: UserWarning: Possible clipped samples in output.\n",
      "  warnings.warn(\"Possible clipped samples in output.\")\n",
      "100%|█████████████████████████████████████████████████████████████████| 5/5 [00:26<00:00,  5.29s/it]\n"
     ]
    },
    {
     "name": "stdout",
     "output_type": "stream",
     "text": [
      "21/30: ./test/raw/hw1_q5_810199328_male.mp3\n"
     ]
    },
    {
     "name": "stderr",
     "output_type": "stream",
     "text": [
      "/home/omid/.pyenv/versions/3.11.9/lib/python3.11/site-packages/pyloudnorm/normalize.py:62: UserWarning: Possible clipped samples in output.\n",
      "  warnings.warn(\"Possible clipped samples in output.\")\n",
      "100%|█████████████████████████████████████████████████████████████████| 5/5 [01:24<00:00, 16.89s/it]\n"
     ]
    },
    {
     "name": "stdout",
     "output_type": "stream",
     "text": [
      "22/30: ./test/raw/hw1_q3_810199570_female.mp3\n"
     ]
    },
    {
     "name": "stderr",
     "output_type": "stream",
     "text": [
      "/home/omid/.pyenv/versions/3.11.9/lib/python3.11/site-packages/pyloudnorm/normalize.py:62: UserWarning: Possible clipped samples in output.\n",
      "  warnings.warn(\"Possible clipped samples in output.\")\n",
      "100%|█████████████████████████████████████████████████████████████████| 5/5 [00:15<00:00,  3.05s/it]\n"
     ]
    },
    {
     "name": "stdout",
     "output_type": "stream",
     "text": [
      "23/30: ./test/raw/hw1_q3_810101471_female.mp3\n"
     ]
    },
    {
     "name": "stderr",
     "output_type": "stream",
     "text": [
      "/home/omid/.pyenv/versions/3.11.9/lib/python3.11/site-packages/pyloudnorm/normalize.py:62: UserWarning: Possible clipped samples in output.\n",
      "  warnings.warn(\"Possible clipped samples in output.\")\n",
      "100%|█████████████████████████████████████████████████████████████████| 5/5 [00:15<00:00,  3.03s/it]\n",
      "/home/omid/.pyenv/versions/3.11.9/lib/python3.11/site-packages/pyloudnorm/normalize.py:62: UserWarning: Possible clipped samples in output.\n",
      "  warnings.warn(\"Possible clipped samples in output.\")\n"
     ]
    },
    {
     "name": "stdout",
     "output_type": "stream",
     "text": [
      "24/30: ./test/raw/hw1_q4_810102066_male.mp3\n"
     ]
    },
    {
     "name": "stderr",
     "output_type": "stream",
     "text": [
      "100%|█████████████████████████████████████████████████████████████████| 5/5 [00:05<00:00,  1.06s/it]\n"
     ]
    },
    {
     "name": "stdout",
     "output_type": "stream",
     "text": [
      "25/30: ./test/raw/hw1_q4_810103197_female.mp3\n"
     ]
    },
    {
     "name": "stderr",
     "output_type": "stream",
     "text": [
      "/home/omid/.pyenv/versions/3.11.9/lib/python3.11/site-packages/pyloudnorm/normalize.py:62: UserWarning: Possible clipped samples in output.\n",
      "  warnings.warn(\"Possible clipped samples in output.\")\n",
      "100%|█████████████████████████████████████████████████████████████████| 5/5 [00:46<00:00,  9.24s/it]\n"
     ]
    },
    {
     "name": "stdout",
     "output_type": "stream",
     "text": [
      "26/30: ./test/raw/hw1_q1_810101471_female.mp3\n"
     ]
    },
    {
     "name": "stderr",
     "output_type": "stream",
     "text": [
      "/home/omid/.pyenv/versions/3.11.9/lib/python3.11/site-packages/pyloudnorm/normalize.py:62: UserWarning: Possible clipped samples in output.\n",
      "  warnings.warn(\"Possible clipped samples in output.\")\n",
      "100%|█████████████████████████████████████████████████████████████████| 5/5 [00:13<00:00,  2.77s/it]\n",
      "/home/omid/.pyenv/versions/3.11.9/lib/python3.11/site-packages/pyloudnorm/normalize.py:62: UserWarning: Possible clipped samples in output.\n",
      "  warnings.warn(\"Possible clipped samples in output.\")\n"
     ]
    },
    {
     "name": "stdout",
     "output_type": "stream",
     "text": [
      "27/30: ./test/raw/hw1_intro_810600065_female.mp3.mp3\n"
     ]
    },
    {
     "name": "stderr",
     "output_type": "stream",
     "text": [
      "100%|█████████████████████████████████████████████████████████████████| 4/4 [00:01<00:00,  2.43it/s]\n"
     ]
    },
    {
     "name": "stdout",
     "output_type": "stream",
     "text": [
      "28/30: ./test/raw/hw1_q4_810600065_female.mp3.mp3\n"
     ]
    },
    {
     "name": "stderr",
     "output_type": "stream",
     "text": [
      "/home/omid/.pyenv/versions/3.11.9/lib/python3.11/site-packages/pyloudnorm/normalize.py:62: UserWarning: Possible clipped samples in output.\n",
      "  warnings.warn(\"Possible clipped samples in output.\")\n",
      "100%|█████████████████████████████████████████████████████████████████| 5/5 [00:16<00:00,  3.31s/it]\n"
     ]
    },
    {
     "name": "stdout",
     "output_type": "stream",
     "text": [
      "29/30: ./test/raw/hw1_intro_810103136_male.mp3\n"
     ]
    },
    {
     "name": "stderr",
     "output_type": "stream",
     "text": [
      "100%|█████████████████████████████████████████████████████████████████| 4/4 [00:01<00:00,  2.81it/s]\n"
     ]
    },
    {
     "name": "stdout",
     "output_type": "stream",
     "text": [
      "30/30: ./test/raw/hw1_q1_810103172_male.mp3\n"
     ]
    },
    {
     "name": "stderr",
     "output_type": "stream",
     "text": [
      "/home/omid/.pyenv/versions/3.11.9/lib/python3.11/site-packages/pyloudnorm/normalize.py:62: UserWarning: Possible clipped samples in output.\n",
      "  warnings.warn(\"Possible clipped samples in output.\")\n",
      "100%|█████████████████████████████████████████████████████████████████| 5/5 [00:08<00:00,  1.75s/it]\n"
     ]
    }
   ],
   "source": [
    "TP, TN, FP, FN = 0, 0, 0, 0\n",
    "for i, (test_file, label) in enumerate(test_data):\n",
    "    print(f\"{i+1}/{len(test_data)}: {test_file}\")\n",
    "    prediction = detect_gender(test_file, 'saved_models/svm.joblib')\n",
    "    \n",
    "    if prediction == 1:\n",
    "        if label == 1:\n",
    "            TP += 1\n",
    "        else:\n",
    "            FP += 1\n",
    "    else:\n",
    "        if label == 0:\n",
    "            TN += 1\n",
    "        else:\n",
    "            FN += 1\n"
   ]
  },
  {
   "cell_type": "code",
   "execution_count": 16,
   "id": "04e725f1-f7c4-4390-8034-c683d76e9f1e",
   "metadata": {},
   "outputs": [
    {
     "name": "stdout",
     "output_type": "stream",
     "text": [
      "accuracy: 0.6\n"
     ]
    }
   ],
   "source": [
    "accuracy = (TP + TN) / (TP + TN + FP + FN)\n",
    "print('accuracy:', accuracy)"
   ]
  },
  {
   "cell_type": "code",
   "execution_count": 15,
   "id": "355ee197-513c-4fe9-b18e-0f5a88302f17",
   "metadata": {},
   "outputs": [
    {
     "data": {
      "image/png": "[encoded data removed]",
      "text/plain": [
       "<Figure size 800x600 with 2 Axes>"
      ]
     },
     "metadata": {},
     "output_type": "display_data"
    },
    {
     "data": {
      "image/png": "[encoded data removed]",
      "text/plain": [
       "<Figure size 800x600 with 1 Axes>"
      ]
     },
     "metadata": {},
     "output_type": "display_data"
    }
   ],
   "source": [
    "import numpy as np\n",
    "import matplotlib.pyplot as plt\n",
    "import seaborn as sns\n",
    "from sklearn.metrics import confusion_matrix, roc_curve, auc\n",
    "\n",
    "def plot_confusion_matrix_and_roc(TP, TN, FP, FN):\n",
    "    cm = np.array([[TN, FP],\n",
    "                   [FN, TP]])\n",
    "\n",
    "    plt.figure(figsize=(8, 6))\n",
    "    sns.heatmap(cm, annot=True, fmt='d', cmap='Blues', \n",
    "                xticklabels=['Predicted Negative', 'Predicted Positive'],\n",
    "                yticklabels=['Actual Negative', 'Actual Positive'])\n",
    "    plt.ylabel('Actual')\n",
    "    plt.xlabel('Predicted')\n",
    "    plt.title('Confusion Matrix')\n",
    "    plt.show()\n",
    "\n",
    "    y_true = [1] * TP + [0] * TN + [1] * FN + [0] * FP  \n",
    "    y_scores = [0.9] * TP + [0.7] * TN + [0.4] * FN + [0.3] * FP\n",
    "\n",
    "    fpr, tpr, thresholds = roc_curve(y_true, y_scores)\n",
    "    roc_auc = auc(fpr, tpr)\n",
    "\n",
    "    plt.figure(figsize=(8, 6))\n",
    "    plt.plot(fpr, tpr, color='blue', lw=2, label='ROC curve (area = {:.2f})'.format(roc_auc))\n",
    "    plt.plot([0, 1], [0, 1], color='red', lw=2, linestyle='--')\n",
    "    plt.xlim([0.0, 1.0])\n",
    "    plt.ylim([0.0, 1.05])\n",
    "    plt.xlabel('False Positive Rate')\n",
    "    plt.ylabel('True Positive Rate')\n",
    "    plt.title('Receiver Operating Characteristic (ROC) Curve')\n",
    "    plt.legend(loc=\"lower right\")\n",
    "    plt.show()\n",
    "\n",
    "plot_confusion_matrix_and_roc(TP, TN, FP, FN)"
   ]
  },
  {
   "cell_type": "markdown",
   "id": "bdbb297c-22fe-44e3-8dc8-2ad153f7943f",
   "metadata": {},
   "source": [
    "It seems that the model have been biased toward the positive class ."
   ]
  },
  {
   "cell_type": "markdown",
   "id": "1683fad3-8b1c-4aa1-9a24-7744758f5390",
   "metadata": {},
   "source": [
    "<h4>Logistic Regression</h4>"
   ]
  }
 ],
 "metadata": {
  "kernelspec": {
   "display_name": "Python 3 (ipykernel)",
   "language": "python",
   "name": "python3"
  },
  "language_info": {
   "codemirror_mode": {
    "name": "ipython",
    "version": 3
   },
   "file_extension": ".py",
   "mimetype": "text/x-python",
   "name": "python",
   "nbconvert_exporter": "python",
   "pygments_lexer": "ipython3",
   "version": "3.11.9"
  }
 },
 "nbformat": 4,
 "nbformat_minor": 5
}
